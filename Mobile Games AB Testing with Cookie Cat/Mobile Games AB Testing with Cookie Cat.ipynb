{
 "cells": [
  {
   "cell_type": "markdown",
   "id": "a614de02",
   "metadata": {},
   "source": [
    "<a name=\"table_of_contents\"></a>\n",
    "# Content: \n",
    "1) [Of cats and cookies](#stage_1)\n",
    "\n",
    "- [Loading libraries and dataset.](#s_1)\n",
    "- [Data preprocessing](#s_2)\n",
    "\n",
    "2) [Getting Started with EDA](#stage_2)\n",
    "\n",
    "3) [Retentions](#stage_3)\n",
    "\n",
    "4) [Should we be confident in the difference?](#stage_4)\n",
    "\n",
    "5) [Zooming in on the difference](#stage_5)\n",
    "\n",
    "6) [The probability of a difference](#stage_6)\n",
    "\n",
    "7) [The conclusion](#stage_7)"
   ]
  },
  {
   "cell_type": "markdown",
   "id": "ff29c492",
   "metadata": {},
   "source": [
    "<a name=\"stage_1\"></a>\n",
    "## Of cats and cookies\n",
    "[To the table of contents](#table_of_contents)\n",
    "<p><a href=\"https://www.facebook.com/cookiecatsgame\">Cookie Cats</a> is a hugely popular mobile puzzle game developed by <a href=\"http://tactile.dk\">Tactile Entertainment</a>. It's a classic \"connect three\"-style puzzle game where the player must connect tiles of the same color to clear the board and win the level. It also features singing cats. We're not kidding! Check out this short demo:</p>\n",
    "<p><a href=\"https://youtu.be/GaP5f0jVTWE\"><img src=\"https://assets.datacamp.com/production/project_184/img/cookie_cats_video.jpeg\" style=\"width: 500px\"></a></p>\n",
    "<p>As players progress through the levels of the game, they will occasionally encounter gates that force them to wait a non-trivial amount of time or make an in-app purchase to progress. In addition to driving in-app purchases, these gates serve the important purpose of giving players an enforced break from playing the game, hopefully resulting in that the player's enjoyment of the game being increased and prolonged.</p>\n",
    "<p><img src=\"https://assets.datacamp.com/production/project_184/img/cc_gates.png\" alt></p>\n",
    "<p>But where should the gates be placed? Initially the first gate was placed at level 30, but in this notebook we're going to analyze an AB-test where we moved the first gate in Cookie Cats from level 30 to level 40. In particular, we will look at the impact on player retention. But before we get to that, a key step before undertaking any analysis is understanding the data. So let's load it in and take a look!</p>"
   ]
  },
  {
   "cell_type": "markdown",
   "id": "8952fdb2",
   "metadata": {},
   "source": [
    "<a name=\"s_1\"></a>\n",
    "### Loading libraries and dataset.\n",
    "[To the table of contents](#table_of_contents)"
   ]
  },
  {
   "cell_type": "code",
   "execution_count": 1,
   "id": "3976da98",
   "metadata": {},
   "outputs": [
    {
     "name": "stdout",
     "output_type": "stream",
     "text": [
      "Requirement already satisfied: missingno in d:\\ anaconda\\lib\\site-packages (0.5.1)\n",
      "Requirement already satisfied: scipy in d:\\ anaconda\\lib\\site-packages (from missingno) (1.6.2)\n",
      "Requirement already satisfied: numpy in d:\\ anaconda\\lib\\site-packages (from missingno) (1.20.1)\n",
      "Requirement already satisfied: matplotlib in d:\\ anaconda\\lib\\site-packages (from missingno) (3.3.4)\n",
      "Requirement already satisfied: seaborn in d:\\ anaconda\\lib\\site-packages (from missingno) (0.11.1)\n",
      "Requirement already satisfied: python-dateutil>=2.1 in d:\\ anaconda\\lib\\site-packages (from matplotlib->missingno) (2.8.1)\n",
      "Requirement already satisfied: pyparsing!=2.0.4,!=2.1.2,!=2.1.6,>=2.0.3 in d:\\ anaconda\\lib\\site-packages (from matplotlib->missingno) (2.4.7)\n",
      "Requirement already satisfied: pillow>=6.2.0 in d:\\ anaconda\\lib\\site-packages (from matplotlib->missingno) (8.2.0)\n",
      "Requirement already satisfied: cycler>=0.10 in d:\\ anaconda\\lib\\site-packages (from matplotlib->missingno) (0.10.0)\n",
      "Requirement already satisfied: kiwisolver>=1.0.1 in d:\\ anaconda\\lib\\site-packages (from matplotlib->missingno) (1.3.1)\n",
      "Requirement already satisfied: six in d:\\ anaconda\\lib\\site-packages (from cycler>=0.10->matplotlib->missingno) (1.15.0)\n",
      "Requirement already satisfied: pandas>=0.23 in d:\\ anaconda\\lib\\site-packages (from seaborn->missingno) (1.2.4)\n",
      "Requirement already satisfied: pytz>=2017.3 in d:\\ anaconda\\lib\\site-packages (from pandas>=0.23->seaborn->missingno) (2021.1)\n"
     ]
    }
   ],
   "source": [
    "! pip install missingno\n",
    "\n",
    "\n",
    "import pandas as pd\n",
    "import matplotlib.pyplot as plt\n",
    "import numpy as np\n",
    "from scipy import stats as st\n",
    "import math\n",
    "import seaborn as sns\n",
    "import missingno as msno\n",
    "import plotly.express as px\n",
    "import plotly.graph_objects as go\n",
    "from plotly.subplots import make_subplots"
   ]
  },
  {
   "cell_type": "code",
   "execution_count": 2,
   "id": "29cc400e",
   "metadata": {},
   "outputs": [
    {
     "data": {
      "text/html": [
       "<div>\n",
       "<style scoped>\n",
       "    .dataframe tbody tr th:only-of-type {\n",
       "        vertical-align: middle;\n",
       "    }\n",
       "\n",
       "    .dataframe tbody tr th {\n",
       "        vertical-align: top;\n",
       "    }\n",
       "\n",
       "    .dataframe thead th {\n",
       "        text-align: right;\n",
       "    }\n",
       "</style>\n",
       "<table border=\"1\" class=\"dataframe\">\n",
       "  <thead>\n",
       "    <tr style=\"text-align: right;\">\n",
       "      <th></th>\n",
       "      <th>userid</th>\n",
       "      <th>version</th>\n",
       "      <th>sum_gamerounds</th>\n",
       "      <th>retention_1</th>\n",
       "      <th>retention_7</th>\n",
       "    </tr>\n",
       "  </thead>\n",
       "  <tbody>\n",
       "    <tr>\n",
       "      <th>0</th>\n",
       "      <td>116</td>\n",
       "      <td>gate_30</td>\n",
       "      <td>3</td>\n",
       "      <td>False</td>\n",
       "      <td>False</td>\n",
       "    </tr>\n",
       "    <tr>\n",
       "      <th>1</th>\n",
       "      <td>337</td>\n",
       "      <td>gate_30</td>\n",
       "      <td>38</td>\n",
       "      <td>True</td>\n",
       "      <td>False</td>\n",
       "    </tr>\n",
       "    <tr>\n",
       "      <th>2</th>\n",
       "      <td>377</td>\n",
       "      <td>gate_40</td>\n",
       "      <td>165</td>\n",
       "      <td>True</td>\n",
       "      <td>False</td>\n",
       "    </tr>\n",
       "    <tr>\n",
       "      <th>3</th>\n",
       "      <td>483</td>\n",
       "      <td>gate_40</td>\n",
       "      <td>1</td>\n",
       "      <td>False</td>\n",
       "      <td>False</td>\n",
       "    </tr>\n",
       "    <tr>\n",
       "      <th>4</th>\n",
       "      <td>488</td>\n",
       "      <td>gate_40</td>\n",
       "      <td>179</td>\n",
       "      <td>True</td>\n",
       "      <td>True</td>\n",
       "    </tr>\n",
       "    <tr>\n",
       "      <th>5</th>\n",
       "      <td>540</td>\n",
       "      <td>gate_40</td>\n",
       "      <td>187</td>\n",
       "      <td>True</td>\n",
       "      <td>True</td>\n",
       "    </tr>\n",
       "    <tr>\n",
       "      <th>6</th>\n",
       "      <td>1066</td>\n",
       "      <td>gate_30</td>\n",
       "      <td>0</td>\n",
       "      <td>False</td>\n",
       "      <td>False</td>\n",
       "    </tr>\n",
       "    <tr>\n",
       "      <th>7</th>\n",
       "      <td>1444</td>\n",
       "      <td>gate_40</td>\n",
       "      <td>2</td>\n",
       "      <td>False</td>\n",
       "      <td>False</td>\n",
       "    </tr>\n",
       "    <tr>\n",
       "      <th>8</th>\n",
       "      <td>1574</td>\n",
       "      <td>gate_40</td>\n",
       "      <td>108</td>\n",
       "      <td>True</td>\n",
       "      <td>True</td>\n",
       "    </tr>\n",
       "    <tr>\n",
       "      <th>9</th>\n",
       "      <td>1587</td>\n",
       "      <td>gate_40</td>\n",
       "      <td>153</td>\n",
       "      <td>True</td>\n",
       "      <td>False</td>\n",
       "    </tr>\n",
       "  </tbody>\n",
       "</table>\n",
       "</div>"
      ],
      "text/plain": [
       "   userid  version  sum_gamerounds  retention_1  retention_7\n",
       "0     116  gate_30               3        False        False\n",
       "1     337  gate_30              38         True        False\n",
       "2     377  gate_40             165         True        False\n",
       "3     483  gate_40               1        False        False\n",
       "4     488  gate_40             179         True         True\n",
       "5     540  gate_40             187         True         True\n",
       "6    1066  gate_30               0        False        False\n",
       "7    1444  gate_40               2        False        False\n",
       "8    1574  gate_40             108         True         True\n",
       "9    1587  gate_40             153         True        False"
      ]
     },
     "execution_count": 2,
     "metadata": {},
     "output_type": "execute_result"
    }
   ],
   "source": [
    "df= pd.read_csv(\"cookieсats.csv\")\n",
    "df.head(10)"
   ]
  },
  {
   "cell_type": "markdown",
   "id": "cbc32fa0",
   "metadata": {},
   "source": [
    "<a name=\"s_2\"></a>\n",
    "### Data preprocessing:\n",
    "[To the table of contents](#table_of_contents)"
   ]
  },
  {
   "cell_type": "markdown",
   "id": "5e45a1a3",
   "metadata": {},
   "source": [
    "<p>The data we have is from 90,189 players that installed the game while the AB-test was running. The variables are:</p>\n",
    "<ul>\n",
    "<li><code>userid</code> - a unique number that identifies each player.</li>\n",
    "<li><code>version</code> - whether the player was put in the control group (<code>gate_30</code> - a gate at level 30) or the group with the moved gate (<code>gate_40</code> - a gate at level 40).</li>\n",
    "<li><code>sum_gamerounds</code> - the number of game rounds played by the player during the first 14 days after install.</li>\n",
    "<li><code>retention_1</code> - did the player come back and play <strong>1 day</strong> after installing?</li>\n",
    "<li><code>retention_7</code> - did the player come back and play <strong>7 days</strong> after installing?</li>\n",
    "</ul>\n",
    "<p>When a player installed the game, he or she was randomly assigned to either <code>gate_30</code> or <code>gate_40</code>. As a sanity check, let's see if there are roughly the same number of players in each AB group. </p>"
   ]
  },
  {
   "cell_type": "markdown",
   "id": "f4a9826b",
   "metadata": {},
   "source": [
    "Let's  carry out a primary analysis of the data: checking for duplicates and missing values:"
   ]
  },
  {
   "cell_type": "code",
   "execution_count": 3,
   "id": "a1adc522",
   "metadata": {},
   "outputs": [
    {
     "name": "stdout",
     "output_type": "stream",
     "text": [
      "(90189, 5)\n",
      "\n",
      "----------------------------\n",
      "<class 'pandas.core.frame.DataFrame'>\n",
      "RangeIndex: 90189 entries, 0 to 90188\n",
      "Data columns (total 5 columns):\n",
      " #   Column          Non-Null Count  Dtype \n",
      "---  ------          --------------  ----- \n",
      " 0   userid          90189 non-null  int64 \n",
      " 1   version         90189 non-null  object\n",
      " 2   sum_gamerounds  90189 non-null  int64 \n",
      " 3   retention_1     90189 non-null  bool  \n",
      " 4   retention_7     90189 non-null  bool  \n",
      "dtypes: bool(2), int64(2), object(1)\n",
      "memory usage: 2.2+ MB\n"
     ]
    }
   ],
   "source": [
    "print(df.shape)\n",
    "print('\\n----------------------------')\n",
    "df.info()"
   ]
  },
  {
   "cell_type": "code",
   "execution_count": 4,
   "id": "95956393",
   "metadata": {},
   "outputs": [
    {
     "data": {
      "text/html": [
       "<div>\n",
       "<style scoped>\n",
       "    .dataframe tbody tr th:only-of-type {\n",
       "        vertical-align: middle;\n",
       "    }\n",
       "\n",
       "    .dataframe tbody tr th {\n",
       "        vertical-align: top;\n",
       "    }\n",
       "\n",
       "    .dataframe thead th {\n",
       "        text-align: right;\n",
       "    }\n",
       "</style>\n",
       "<table border=\"1\" class=\"dataframe\">\n",
       "  <thead>\n",
       "    <tr style=\"text-align: right;\">\n",
       "      <th></th>\n",
       "      <th>userid</th>\n",
       "      <th>sum_gamerounds</th>\n",
       "    </tr>\n",
       "  </thead>\n",
       "  <tbody>\n",
       "    <tr>\n",
       "      <th>count</th>\n",
       "      <td>9.018900e+04</td>\n",
       "      <td>90189.000000</td>\n",
       "    </tr>\n",
       "    <tr>\n",
       "      <th>mean</th>\n",
       "      <td>4.998412e+06</td>\n",
       "      <td>51.872457</td>\n",
       "    </tr>\n",
       "    <tr>\n",
       "      <th>std</th>\n",
       "      <td>2.883286e+06</td>\n",
       "      <td>195.050858</td>\n",
       "    </tr>\n",
       "    <tr>\n",
       "      <th>min</th>\n",
       "      <td>1.160000e+02</td>\n",
       "      <td>0.000000</td>\n",
       "    </tr>\n",
       "    <tr>\n",
       "      <th>25%</th>\n",
       "      <td>2.512230e+06</td>\n",
       "      <td>5.000000</td>\n",
       "    </tr>\n",
       "    <tr>\n",
       "      <th>50%</th>\n",
       "      <td>4.995815e+06</td>\n",
       "      <td>16.000000</td>\n",
       "    </tr>\n",
       "    <tr>\n",
       "      <th>75%</th>\n",
       "      <td>7.496452e+06</td>\n",
       "      <td>51.000000</td>\n",
       "    </tr>\n",
       "    <tr>\n",
       "      <th>max</th>\n",
       "      <td>9.999861e+06</td>\n",
       "      <td>49854.000000</td>\n",
       "    </tr>\n",
       "  </tbody>\n",
       "</table>\n",
       "</div>"
      ],
      "text/plain": [
       "             userid  sum_gamerounds\n",
       "count  9.018900e+04    90189.000000\n",
       "mean   4.998412e+06       51.872457\n",
       "std    2.883286e+06      195.050858\n",
       "min    1.160000e+02        0.000000\n",
       "25%    2.512230e+06        5.000000\n",
       "50%    4.995815e+06       16.000000\n",
       "75%    7.496452e+06       51.000000\n",
       "max    9.999861e+06    49854.000000"
      ]
     },
     "execution_count": 4,
     "metadata": {},
     "output_type": "execute_result"
    }
   ],
   "source": [
    "df.describe()"
   ]
  },
  {
   "cell_type": "code",
   "execution_count": 5,
   "id": "5a6ca39e",
   "metadata": {},
   "outputs": [
    {
     "data": {
      "text/plain": [
       "<AxesSubplot:>"
      ]
     },
     "execution_count": 5,
     "metadata": {},
     "output_type": "execute_result"
    },
    {
     "data": {
      "image/png": "[encoded data removed]",
      "text/plain": [
       "<Figure size 432x288 with 1 Axes>"
      ]
     },
     "metadata": {
      "needs_background": "light"
     },
     "output_type": "display_data"
    }
   ],
   "source": [
    "df.boxplot(column='sum_gamerounds')"
   ]
  },
  {
   "cell_type": "markdown",
   "id": "78714484",
   "metadata": {},
   "source": [
    "#### My notice:\n",
    "There is a strong outlier that spoils the data distribution. Perhaps this is a developer account that \"passed\" the game to the end, or it's a bot or a cheater. I'll remove this outlier."
   ]
  },
  {
   "cell_type": "code",
   "execution_count": 6,
   "id": "56ac0219",
   "metadata": {},
   "outputs": [],
   "source": [
    "df=df[df['sum_gamerounds']!=49854]"
   ]
  },
  {
   "cell_type": "code",
   "execution_count": 7,
   "id": "72e2b2fd",
   "metadata": {},
   "outputs": [
    {
     "name": "stdout",
     "output_type": "stream",
     "text": [
      "Duplicates in the dataset : 0\n",
      "\n",
      "Missing values in the dataset: userid            0\n",
      "version           0\n",
      "sum_gamerounds    0\n",
      "retention_1       0\n",
      "retention_7       0\n",
      "dtype: int64\n"
     ]
    }
   ],
   "source": [
    "print('Duplicates in the dataset :', df.duplicated().sum())\n",
    "print('\\nMissing values in the dataset:', df.isna().sum())"
   ]
  },
  {
   "cell_type": "code",
   "execution_count": 8,
   "id": "a15e96f7",
   "metadata": {},
   "outputs": [
    {
     "data": {
      "text/html": [
       "<div>\n",
       "<style scoped>\n",
       "    .dataframe tbody tr th:only-of-type {\n",
       "        vertical-align: middle;\n",
       "    }\n",
       "\n",
       "    .dataframe tbody tr th {\n",
       "        vertical-align: top;\n",
       "    }\n",
       "\n",
       "    .dataframe thead th {\n",
       "        text-align: right;\n",
       "    }\n",
       "</style>\n",
       "<table border=\"1\" class=\"dataframe\">\n",
       "  <thead>\n",
       "    <tr style=\"text-align: right;\">\n",
       "      <th></th>\n",
       "      <th>user_id</th>\n",
       "      <th>version</th>\n",
       "      <th>sum_gamerounds</th>\n",
       "      <th>retention_1</th>\n",
       "      <th>retention_7</th>\n",
       "    </tr>\n",
       "  </thead>\n",
       "  <tbody>\n",
       "    <tr>\n",
       "      <th>0</th>\n",
       "      <td>116</td>\n",
       "      <td>gate_30</td>\n",
       "      <td>3</td>\n",
       "      <td>False</td>\n",
       "      <td>False</td>\n",
       "    </tr>\n",
       "    <tr>\n",
       "      <th>1</th>\n",
       "      <td>337</td>\n",
       "      <td>gate_30</td>\n",
       "      <td>38</td>\n",
       "      <td>True</td>\n",
       "      <td>False</td>\n",
       "    </tr>\n",
       "  </tbody>\n",
       "</table>\n",
       "</div>"
      ],
      "text/plain": [
       "   user_id  version  sum_gamerounds  retention_1  retention_7\n",
       "0      116  gate_30               3        False        False\n",
       "1      337  gate_30              38         True        False"
      ]
     },
     "execution_count": 8,
     "metadata": {},
     "output_type": "execute_result"
    }
   ],
   "source": [
    "df=df.rename(columns={'userid':'user_id'})\n",
    "df.head(2)"
   ]
  },
  {
   "cell_type": "markdown",
   "id": "ce5a89cb",
   "metadata": {},
   "source": [
    "##### Result:\n",
    "The data is clean, no additional action was required"
   ]
  },
  {
   "cell_type": "markdown",
   "id": "f122ab8c",
   "metadata": {},
   "source": [
    "#### My notices\n",
    "I would like to have more data (for example, data by date, user actions and methods of passing the first level) and without the initial grouping by gate_30 and gate_40."
   ]
  },
  {
   "cell_type": "markdown",
   "id": "ef7b7793",
   "metadata": {},
   "source": [
    "<a name=\"stage_2\"></a>\n",
    "## Getting Started with EDA\n",
    "[To the table of contents](#table_of_contents)\n",
    "<p><img src=\"https://assets.datacamp.com/production/project_184/img/belle_cookie.png\" style=\"width:200px; float:right\"> </p>\n",
    "<p>It looks like there is roughly the same number of players in each group, nice!</p>\n",
    "<p>The focus of this analysis will be on how the gate placement affects player retention, but just for fun: Let's plot the distribution of the number of game rounds players played during their first week playing the game.</p>"
   ]
  },
  {
   "cell_type": "code",
   "execution_count": 9,
   "id": "f0743389",
   "metadata": {},
   "outputs": [
    {
     "data": {
      "text/html": [
       "<div>\n",
       "<style scoped>\n",
       "    .dataframe tbody tr th:only-of-type {\n",
       "        vertical-align: middle;\n",
       "    }\n",
       "\n",
       "    .dataframe tbody tr th {\n",
       "        vertical-align: top;\n",
       "    }\n",
       "\n",
       "    .dataframe thead th {\n",
       "        text-align: right;\n",
       "    }\n",
       "</style>\n",
       "<table border=\"1\" class=\"dataframe\">\n",
       "  <thead>\n",
       "    <tr style=\"text-align: right;\">\n",
       "      <th></th>\n",
       "      <th>count</th>\n",
       "      <th>mean</th>\n",
       "      <th>median</th>\n",
       "      <th>std</th>\n",
       "      <th>max</th>\n",
       "    </tr>\n",
       "    <tr>\n",
       "      <th>version</th>\n",
       "      <th></th>\n",
       "      <th></th>\n",
       "      <th></th>\n",
       "      <th></th>\n",
       "      <th></th>\n",
       "    </tr>\n",
       "  </thead>\n",
       "  <tbody>\n",
       "    <tr>\n",
       "      <th>gate_30</th>\n",
       "      <td>44699</td>\n",
       "      <td>51.342111</td>\n",
       "      <td>17</td>\n",
       "      <td>102.057598</td>\n",
       "      <td>2961</td>\n",
       "    </tr>\n",
       "    <tr>\n",
       "      <th>gate_40</th>\n",
       "      <td>45489</td>\n",
       "      <td>51.298776</td>\n",
       "      <td>16</td>\n",
       "      <td>103.294416</td>\n",
       "      <td>2640</td>\n",
       "    </tr>\n",
       "  </tbody>\n",
       "</table>\n",
       "</div>"
      ],
      "text/plain": [
       "         count       mean  median         std   max\n",
       "version                                            \n",
       "gate_30  44699  51.342111      17  102.057598  2961\n",
       "gate_40  45489  51.298776      16  103.294416  2640"
      ]
     },
     "execution_count": 9,
     "metadata": {},
     "output_type": "execute_result"
    }
   ],
   "source": [
    "data_per_group=df.groupby('version')['sum_gamerounds'].agg(['count','mean','median','std','max'])\n",
    "data_per_group"
   ]
  },
  {
   "cell_type": "code",
   "execution_count": 10,
   "id": "2a82df71",
   "metadata": {},
   "outputs": [
    {
     "name": "stdout",
     "output_type": "stream",
     "text": [
      "Unique players: 90188\n",
      "\n",
      "Unique players in group A (gate_30): 44699\n",
      "\n",
      "Unique players in group B (gate_40): 45489\n"
     ]
    }
   ],
   "source": [
    "print('Unique players:', df['user_id'].nunique())\n",
    "print('\\nUnique players in group A (gate_30):', df[df['version']=='gate_30']['user_id'].nunique())\n",
    "print('\\nUnique players in group B (gate_40):', df[df['version']=='gate_40']['user_id'].nunique())\n"
   ]
  },
  {
   "cell_type": "code",
   "execution_count": 11,
   "id": "a3d225ab",
   "metadata": {},
   "outputs": [
    {
     "data": {
      "text/html": [
       "<div>\n",
       "<style scoped>\n",
       "    .dataframe tbody tr th:only-of-type {\n",
       "        vertical-align: middle;\n",
       "    }\n",
       "\n",
       "    .dataframe tbody tr th {\n",
       "        vertical-align: top;\n",
       "    }\n",
       "\n",
       "    .dataframe thead th {\n",
       "        text-align: right;\n",
       "    }\n",
       "</style>\n",
       "<table border=\"1\" class=\"dataframe\">\n",
       "  <thead>\n",
       "    <tr style=\"text-align: right;\">\n",
       "      <th></th>\n",
       "      <th>sum_gamerounds</th>\n",
       "      <th>user_id</th>\n",
       "    </tr>\n",
       "  </thead>\n",
       "  <tbody>\n",
       "    <tr>\n",
       "      <th>0</th>\n",
       "      <td>0</td>\n",
       "      <td>3994</td>\n",
       "    </tr>\n",
       "    <tr>\n",
       "      <th>1</th>\n",
       "      <td>1</td>\n",
       "      <td>5538</td>\n",
       "    </tr>\n",
       "    <tr>\n",
       "      <th>2</th>\n",
       "      <td>2</td>\n",
       "      <td>4606</td>\n",
       "    </tr>\n",
       "    <tr>\n",
       "      <th>3</th>\n",
       "      <td>3</td>\n",
       "      <td>3958</td>\n",
       "    </tr>\n",
       "    <tr>\n",
       "      <th>4</th>\n",
       "      <td>4</td>\n",
       "      <td>3629</td>\n",
       "    </tr>\n",
       "  </tbody>\n",
       "</table>\n",
       "</div>"
      ],
      "text/plain": [
       "   sum_gamerounds  user_id\n",
       "0               0     3994\n",
       "1               1     5538\n",
       "2               2     4606\n",
       "3               3     3958\n",
       "4               4     3629"
      ]
     },
     "execution_count": 11,
     "metadata": {},
     "output_type": "execute_result"
    }
   ],
   "source": [
    "game_rounds = df.groupby('sum_gamerounds')['user_id'].count().reset_index()\n",
    "game_rounds.head()"
   ]
  },
  {
   "cell_type": "code",
   "execution_count": 12,
   "id": "b96cf474",
   "metadata": {},
   "outputs": [
    {
     "data": {
      "text/plain": [
       "<AxesSubplot:>"
      ]
     },
     "execution_count": 12,
     "metadata": {},
     "output_type": "execute_result"
    },
    {
     "data": {
      "image/png": "[encoded data removed]",
      "text/plain": [
       "<Figure size 432x288 with 1 Axes>"
      ]
     },
     "metadata": {
      "needs_background": "light"
     },
     "output_type": "display_data"
    }
   ],
   "source": [
    "game_rounds.boxplot(column='sum_gamerounds')"
   ]
  },
  {
   "cell_type": "markdown",
   "id": "a885c946",
   "metadata": {},
   "source": [
    "##### Let's build diagrams:"
   ]
  },
  {
   "cell_type": "code",
   "execution_count": 13,
   "id": "f6da5a4d",
   "metadata": {},
   "outputs": [
    {
     "data": {
      "image/png": "[encoded data removed]",
      "text/plain": [
       "<Figure size 1152x648 with 1 Axes>"
      ]
     },
     "metadata": {
      "needs_background": "light"
     },
     "output_type": "display_data"
    }
   ],
   "source": [
    "ax = game_rounds.plot('sum_gamerounds',figsize=(16, 9))\n",
    "plt.title('The distribution of players and game rounds') \n",
    "ax.set_xlabel('Game rounds')\n",
    "ax.set_ylabel('Number of players')\n",
    "plt.show()"
   ]
  },
  {
   "cell_type": "markdown",
   "id": "fce832fd",
   "metadata": {},
   "source": [
    "##### My notice:\n",
    "Too much data with high values, so \"divine\" people do not play, you need to take 100 game rounds, as often occurs."
   ]
  },
  {
   "cell_type": "code",
   "execution_count": 14,
   "id": "a3e3ce9d",
   "metadata": {},
   "outputs": [
    {
     "data": {
      "image/png": "[encoded data removed]",
      "text/plain": [
       "<Figure size 1152x648 with 1 Axes>"
      ]
     },
     "metadata": {
      "needs_background": "light"
     },
     "output_type": "display_data"
    }
   ],
   "source": [
    "ax = game_rounds.head(100).plot('sum_gamerounds',figsize=(16, 9))\n",
    "plt.title('The distribution of players and game rounds') \n",
    "ax.set_xlabel('Game rounds')\n",
    "ax.set_ylabel('Number of players')\n",
    "plt.show()"
   ]
  },
  {
   "cell_type": "markdown",
   "id": "ffd9f952",
   "metadata": {},
   "source": [
    "##### And what kind of schedules will be in different A/B groups?"
   ]
  },
  {
   "cell_type": "code",
   "execution_count": 15,
   "id": "5aeed77b",
   "metadata": {},
   "outputs": [
    {
     "data": {
      "text/html": [
       "<div>\n",
       "<style scoped>\n",
       "    .dataframe tbody tr th:only-of-type {\n",
       "        vertical-align: middle;\n",
       "    }\n",
       "\n",
       "    .dataframe tbody tr th {\n",
       "        vertical-align: top;\n",
       "    }\n",
       "\n",
       "    .dataframe thead th {\n",
       "        text-align: right;\n",
       "    }\n",
       "</style>\n",
       "<table border=\"1\" class=\"dataframe\">\n",
       "  <thead>\n",
       "    <tr style=\"text-align: right;\">\n",
       "      <th></th>\n",
       "      <th>user_id</th>\n",
       "      <th>version</th>\n",
       "      <th>sum_gamerounds</th>\n",
       "      <th>retention_1</th>\n",
       "      <th>retention_7</th>\n",
       "    </tr>\n",
       "  </thead>\n",
       "  <tbody>\n",
       "    <tr>\n",
       "      <th>0</th>\n",
       "      <td>116</td>\n",
       "      <td>gate_30</td>\n",
       "      <td>3</td>\n",
       "      <td>False</td>\n",
       "      <td>False</td>\n",
       "    </tr>\n",
       "    <tr>\n",
       "      <th>1</th>\n",
       "      <td>337</td>\n",
       "      <td>gate_30</td>\n",
       "      <td>38</td>\n",
       "      <td>True</td>\n",
       "      <td>False</td>\n",
       "    </tr>\n",
       "    <tr>\n",
       "      <th>6</th>\n",
       "      <td>1066</td>\n",
       "      <td>gate_30</td>\n",
       "      <td>0</td>\n",
       "      <td>False</td>\n",
       "      <td>False</td>\n",
       "    </tr>\n",
       "    <tr>\n",
       "      <th>11</th>\n",
       "      <td>2101</td>\n",
       "      <td>gate_30</td>\n",
       "      <td>0</td>\n",
       "      <td>False</td>\n",
       "      <td>False</td>\n",
       "    </tr>\n",
       "    <tr>\n",
       "      <th>13</th>\n",
       "      <td>2179</td>\n",
       "      <td>gate_30</td>\n",
       "      <td>39</td>\n",
       "      <td>True</td>\n",
       "      <td>False</td>\n",
       "    </tr>\n",
       "    <tr>\n",
       "      <th>14</th>\n",
       "      <td>2218</td>\n",
       "      <td>gate_30</td>\n",
       "      <td>305</td>\n",
       "      <td>True</td>\n",
       "      <td>True</td>\n",
       "    </tr>\n",
       "    <tr>\n",
       "      <th>15</th>\n",
       "      <td>2382</td>\n",
       "      <td>gate_30</td>\n",
       "      <td>73</td>\n",
       "      <td>True</td>\n",
       "      <td>False</td>\n",
       "    </tr>\n",
       "    <tr>\n",
       "      <th>16</th>\n",
       "      <td>2392</td>\n",
       "      <td>gate_30</td>\n",
       "      <td>14</td>\n",
       "      <td>True</td>\n",
       "      <td>False</td>\n",
       "    </tr>\n",
       "    <tr>\n",
       "      <th>17</th>\n",
       "      <td>2451</td>\n",
       "      <td>gate_30</td>\n",
       "      <td>204</td>\n",
       "      <td>True</td>\n",
       "      <td>True</td>\n",
       "    </tr>\n",
       "    <tr>\n",
       "      <th>18</th>\n",
       "      <td>2482</td>\n",
       "      <td>gate_30</td>\n",
       "      <td>108</td>\n",
       "      <td>True</td>\n",
       "      <td>True</td>\n",
       "    </tr>\n",
       "  </tbody>\n",
       "</table>\n",
       "</div>"
      ],
      "text/plain": [
       "    user_id  version  sum_gamerounds  retention_1  retention_7\n",
       "0       116  gate_30               3        False        False\n",
       "1       337  gate_30              38         True        False\n",
       "6      1066  gate_30               0        False        False\n",
       "11     2101  gate_30               0        False        False\n",
       "13     2179  gate_30              39         True        False\n",
       "14     2218  gate_30             305         True         True\n",
       "15     2382  gate_30              73         True        False\n",
       "16     2392  gate_30              14         True        False\n",
       "17     2451  gate_30             204         True         True\n",
       "18     2482  gate_30             108         True         True"
      ]
     },
     "execution_count": 15,
     "metadata": {},
     "output_type": "execute_result"
    }
   ],
   "source": [
    "cummulative_group_A = df.query('version==\"gate_30\"')\n",
    "cummulative_group_B = df.query('version==\"gate_40\"')\n",
    "cummulative_group_A.head(10)"
   ]
  },
  {
   "cell_type": "code",
   "execution_count": 16,
   "id": "8e613c5d",
   "metadata": {},
   "outputs": [
    {
     "data": {
      "text/html": [
       "<div>\n",
       "<style scoped>\n",
       "    .dataframe tbody tr th:only-of-type {\n",
       "        vertical-align: middle;\n",
       "    }\n",
       "\n",
       "    .dataframe tbody tr th {\n",
       "        vertical-align: top;\n",
       "    }\n",
       "\n",
       "    .dataframe thead th {\n",
       "        text-align: right;\n",
       "    }\n",
       "</style>\n",
       "<table border=\"1\" class=\"dataframe\">\n",
       "  <thead>\n",
       "    <tr style=\"text-align: right;\">\n",
       "      <th></th>\n",
       "      <th>user_id</th>\n",
       "      <th>version</th>\n",
       "      <th>sum_gamerounds</th>\n",
       "      <th>retention_1</th>\n",
       "      <th>retention_7</th>\n",
       "    </tr>\n",
       "  </thead>\n",
       "  <tbody>\n",
       "    <tr>\n",
       "      <th>2</th>\n",
       "      <td>377</td>\n",
       "      <td>gate_40</td>\n",
       "      <td>165</td>\n",
       "      <td>True</td>\n",
       "      <td>False</td>\n",
       "    </tr>\n",
       "    <tr>\n",
       "      <th>3</th>\n",
       "      <td>483</td>\n",
       "      <td>gate_40</td>\n",
       "      <td>1</td>\n",
       "      <td>False</td>\n",
       "      <td>False</td>\n",
       "    </tr>\n",
       "    <tr>\n",
       "      <th>4</th>\n",
       "      <td>488</td>\n",
       "      <td>gate_40</td>\n",
       "      <td>179</td>\n",
       "      <td>True</td>\n",
       "      <td>True</td>\n",
       "    </tr>\n",
       "    <tr>\n",
       "      <th>5</th>\n",
       "      <td>540</td>\n",
       "      <td>gate_40</td>\n",
       "      <td>187</td>\n",
       "      <td>True</td>\n",
       "      <td>True</td>\n",
       "    </tr>\n",
       "    <tr>\n",
       "      <th>7</th>\n",
       "      <td>1444</td>\n",
       "      <td>gate_40</td>\n",
       "      <td>2</td>\n",
       "      <td>False</td>\n",
       "      <td>False</td>\n",
       "    </tr>\n",
       "    <tr>\n",
       "      <th>8</th>\n",
       "      <td>1574</td>\n",
       "      <td>gate_40</td>\n",
       "      <td>108</td>\n",
       "      <td>True</td>\n",
       "      <td>True</td>\n",
       "    </tr>\n",
       "    <tr>\n",
       "      <th>9</th>\n",
       "      <td>1587</td>\n",
       "      <td>gate_40</td>\n",
       "      <td>153</td>\n",
       "      <td>True</td>\n",
       "      <td>False</td>\n",
       "    </tr>\n",
       "    <tr>\n",
       "      <th>10</th>\n",
       "      <td>1842</td>\n",
       "      <td>gate_40</td>\n",
       "      <td>3</td>\n",
       "      <td>False</td>\n",
       "      <td>True</td>\n",
       "    </tr>\n",
       "    <tr>\n",
       "      <th>12</th>\n",
       "      <td>2132</td>\n",
       "      <td>gate_40</td>\n",
       "      <td>30</td>\n",
       "      <td>True</td>\n",
       "      <td>False</td>\n",
       "    </tr>\n",
       "    <tr>\n",
       "      <th>19</th>\n",
       "      <td>2502</td>\n",
       "      <td>gate_40</td>\n",
       "      <td>1</td>\n",
       "      <td>False</td>\n",
       "      <td>False</td>\n",
       "    </tr>\n",
       "  </tbody>\n",
       "</table>\n",
       "</div>"
      ],
      "text/plain": [
       "    user_id  version  sum_gamerounds  retention_1  retention_7\n",
       "2       377  gate_40             165         True        False\n",
       "3       483  gate_40               1        False        False\n",
       "4       488  gate_40             179         True         True\n",
       "5       540  gate_40             187         True         True\n",
       "7      1444  gate_40               2        False        False\n",
       "8      1574  gate_40             108         True         True\n",
       "9      1587  gate_40             153         True        False\n",
       "10     1842  gate_40               3        False         True\n",
       "12     2132  gate_40              30         True        False\n",
       "19     2502  gate_40               1        False        False"
      ]
     },
     "execution_count": 16,
     "metadata": {},
     "output_type": "execute_result"
    }
   ],
   "source": [
    "cummulative_group_B.head(10)"
   ]
  },
  {
   "cell_type": "code",
   "execution_count": 17,
   "id": "2ec22925",
   "metadata": {},
   "outputs": [
    {
     "data": {
      "text/html": [
       "<div>\n",
       "<style scoped>\n",
       "    .dataframe tbody tr th:only-of-type {\n",
       "        vertical-align: middle;\n",
       "    }\n",
       "\n",
       "    .dataframe tbody tr th {\n",
       "        vertical-align: top;\n",
       "    }\n",
       "\n",
       "    .dataframe thead th {\n",
       "        text-align: right;\n",
       "    }\n",
       "</style>\n",
       "<table border=\"1\" class=\"dataframe\">\n",
       "  <thead>\n",
       "    <tr style=\"text-align: right;\">\n",
       "      <th></th>\n",
       "      <th>sum_gamerounds</th>\n",
       "      <th>user_id</th>\n",
       "    </tr>\n",
       "  </thead>\n",
       "  <tbody>\n",
       "    <tr>\n",
       "      <th>0</th>\n",
       "      <td>0</td>\n",
       "      <td>1937</td>\n",
       "    </tr>\n",
       "    <tr>\n",
       "      <th>1</th>\n",
       "      <td>1</td>\n",
       "      <td>2749</td>\n",
       "    </tr>\n",
       "    <tr>\n",
       "      <th>2</th>\n",
       "      <td>2</td>\n",
       "      <td>2198</td>\n",
       "    </tr>\n",
       "    <tr>\n",
       "      <th>3</th>\n",
       "      <td>3</td>\n",
       "      <td>1899</td>\n",
       "    </tr>\n",
       "    <tr>\n",
       "      <th>4</th>\n",
       "      <td>4</td>\n",
       "      <td>1831</td>\n",
       "    </tr>\n",
       "  </tbody>\n",
       "</table>\n",
       "</div>"
      ],
      "text/plain": [
       "   sum_gamerounds  user_id\n",
       "0               0     1937\n",
       "1               1     2749\n",
       "2               2     2198\n",
       "3               3     1899\n",
       "4               4     1831"
      ]
     },
     "execution_count": 17,
     "metadata": {},
     "output_type": "execute_result"
    }
   ],
   "source": [
    "game_rounds_A = cummulative_group_A.groupby('sum_gamerounds')['user_id'].count().reset_index()\n",
    "game_rounds_A.head()"
   ]
  },
  {
   "cell_type": "code",
   "execution_count": 18,
   "id": "f69d4ce0",
   "metadata": {},
   "outputs": [
    {
     "data": {
      "text/html": [
       "<div>\n",
       "<style scoped>\n",
       "    .dataframe tbody tr th:only-of-type {\n",
       "        vertical-align: middle;\n",
       "    }\n",
       "\n",
       "    .dataframe tbody tr th {\n",
       "        vertical-align: top;\n",
       "    }\n",
       "\n",
       "    .dataframe thead th {\n",
       "        text-align: right;\n",
       "    }\n",
       "</style>\n",
       "<table border=\"1\" class=\"dataframe\">\n",
       "  <thead>\n",
       "    <tr style=\"text-align: right;\">\n",
       "      <th></th>\n",
       "      <th>sum_gamerounds</th>\n",
       "      <th>user_id</th>\n",
       "    </tr>\n",
       "  </thead>\n",
       "  <tbody>\n",
       "    <tr>\n",
       "      <th>0</th>\n",
       "      <td>0</td>\n",
       "      <td>2057</td>\n",
       "    </tr>\n",
       "    <tr>\n",
       "      <th>1</th>\n",
       "      <td>1</td>\n",
       "      <td>2789</td>\n",
       "    </tr>\n",
       "    <tr>\n",
       "      <th>2</th>\n",
       "      <td>2</td>\n",
       "      <td>2408</td>\n",
       "    </tr>\n",
       "    <tr>\n",
       "      <th>3</th>\n",
       "      <td>3</td>\n",
       "      <td>2059</td>\n",
       "    </tr>\n",
       "    <tr>\n",
       "      <th>4</th>\n",
       "      <td>4</td>\n",
       "      <td>1798</td>\n",
       "    </tr>\n",
       "  </tbody>\n",
       "</table>\n",
       "</div>"
      ],
      "text/plain": [
       "   sum_gamerounds  user_id\n",
       "0               0     2057\n",
       "1               1     2789\n",
       "2               2     2408\n",
       "3               3     2059\n",
       "4               4     1798"
      ]
     },
     "execution_count": 18,
     "metadata": {},
     "output_type": "execute_result"
    }
   ],
   "source": [
    "game_rounds_B = cummulative_group_B.groupby('sum_gamerounds')['user_id'].count().reset_index()\n",
    "game_rounds_B.head()"
   ]
  },
  {
   "cell_type": "code",
   "execution_count": 19,
   "id": "1a7ff516",
   "metadata": {},
   "outputs": [
    {
     "data": {
      "image/png": "[encoded data removed]",
      "text/plain": [
       "<Figure size 1008x504 with 1 Axes>"
      ]
     },
     "metadata": {
      "needs_background": "light"
     },
     "output_type": "display_data"
    }
   ],
   "source": [
    "plt.figure(figsize=(14, 7))\n",
    "plt.plot(game_rounds_A['user_id'].head(100), label='A')\n",
    "plt.plot(game_rounds_B['user_id'].head(100), label='B')\n",
    "plt.title('The distribution of players and game rounds per groups')\n",
    "plt.ylabel('Number of players')\n",
    "plt.xlabel('Game rounds')\n",
    "plt.xticks(rotation=45)\n",
    "plt.legend()\n",
    "plt.show() "
   ]
  },
  {
   "cell_type": "code",
   "execution_count": 20,
   "id": "80a65e4a",
   "metadata": {},
   "outputs": [
    {
     "data": {
      "image/png": "[encoded data removed]",
      "text/plain": [
       "<Figure size 1008x504 with 1 Axes>"
      ]
     },
     "metadata": {
      "needs_background": "light"
     },
     "output_type": "display_data"
    }
   ],
   "source": [
    "fig, ax = plt.subplots(figsize=(14, 7))\n",
    "sns.boxplot(data=df.head(100),x='version',y='sum_gamerounds')\n",
    "plt.show()"
   ]
  },
  {
   "cell_type": "markdown",
   "id": "1e1ac563",
   "metadata": {},
   "source": [
    "##### Results:\n",
    "The first group has more outliers, but the second group showed the best results in passing levels."
   ]
  },
  {
   "cell_type": "markdown",
   "id": "4001ad73",
   "metadata": {},
   "source": [
    "<a name=\"stage_3\"></a>\n",
    "## Retentions\n",
    "[To the table of contents](#table_of_contents)"
   ]
  },
  {
   "cell_type": "markdown",
   "id": "8c97b6c6",
   "metadata": {},
   "source": [
    "In the plot above we can see that some players install the game but then never play it (0 game rounds), some players just play a couple of game rounds in their first week, and some get really hooked!\n",
    "\n",
    "What we want is for players to like the game and to get hooked. A common metric in the video gaming industry for how fun and engaging a game is 1-day retention: The percentage of players that comes back and plays the game one day after they have installed it. The higher 1-day retention is, the easier it is to retain players and build a large player base.\n",
    "\n",
    "As a first step, let's look at what 1-day retention is overall, and just look at a 7-day retention."
   ]
  },
  {
   "cell_type": "code",
   "execution_count": 21,
   "id": "591f2a82",
   "metadata": {},
   "outputs": [
    {
     "name": "stdout",
     "output_type": "stream",
     "text": [
      "The overall retention for 1 day is: 44.52 %\n",
      "\n",
      "The overall retention for 7 day is: 18.61 %\n",
      "\n",
      "The overall mean retention for 1 day is: 0.4452\n",
      "\n",
      "The overall mean retention for 7 day is: 0.1861\n",
      "\n",
      "----------------------------------------------------------------------------------------------------------------------------\n",
      "\n",
      "The group A (variation 30) retention for 1 day is: 44.82 %\n",
      "\n",
      "The group A (variation 30) retention for 7 day is: 19.02 %\n",
      "\n",
      "The group A mean retention for 1 day is: 0.4482\n",
      "\n",
      "The group A mean retention for 7 day is: 0.1902\n",
      "\n",
      "------------------------------------------------------------------------------------------------------------------------------\n",
      "\n",
      "The group B (variation 40) retention for 1 day is: 44.23 %\n",
      "\n",
      "The group B (variation 40) retention for 7 day is: 18.2 %\n",
      "\n",
      "The group B mean retention for 1 day is: 0.4423\n",
      "\n",
      "The group B mean retention for 7 day is: 0.182\n"
     ]
    }
   ],
   "source": [
    "print('The overall retention for 1 day is: {} %'.format(np.round(len(df[df['retention_1'] == True]) / len(df['retention_1']) * 100, 2)))\n",
    "print('\\nThe overall retention for 7 day is: {} %'.format(np.round(len(df[df['retention_7'] == True]) / len(df['retention_7']) * 100, 2)))\n",
    "print('\\nThe overall mean retention for 1 day is: {}'.format(np.round(df['retention_1'].mean(),4)))\n",
    "print('\\nThe overall mean retention for 7 day is: {}'.format(np.round(df['retention_7'].mean(),4)))\n",
    "print('\\n----------------------------------------------------------------------------------------------------------------------------')\n",
    "print('\\nThe group A (variation 30) retention for 1 day is: {} %'.format(np.round(len(cummulative_group_A[cummulative_group_A['retention_1'] == True]) / len(cummulative_group_A['retention_1']) * 100, 2)))\n",
    "print('\\nThe group A (variation 30) retention for 7 day is: {} %'.format(np.round(len(cummulative_group_A[cummulative_group_A['retention_7'] == True]) / len(cummulative_group_A['retention_7']) * 100, 2)))\n",
    "print('\\nThe group A mean retention for 1 day is: {}'.format(np.round(cummulative_group_A['retention_1'].mean(),4)))\n",
    "print('\\nThe group A mean retention for 7 day is: {}'.format(np.round(cummulative_group_A['retention_7'].mean(),4)))\n",
    "print('\\n------------------------------------------------------------------------------------------------------------------------------')\n",
    "print('\\nThe group B (variation 40) retention for 1 day is: {} %'.format(np.round(len(cummulative_group_B[cummulative_group_B['retention_1'] == True]) / len(cummulative_group_B['retention_1']) * 100, 2)))\n",
    "print('\\nThe group B (variation 40) retention for 7 day is: {} %'.format(np.round(len(cummulative_group_B[cummulative_group_B['retention_7'] == True]) / len(cummulative_group_B['retention_7']) * 100, 2)))\n",
    "print('\\nThe group B mean retention for 1 day is: {}'.format(np.round(cummulative_group_B['retention_1'].mean(),4)))\n",
    "print('\\nThe group B mean retention for 7 day is: {}'.format(np.round(cummulative_group_B['retention_7'].mean(),4)))"
   ]
  },
  {
   "cell_type": "markdown",
   "id": "f271b9b1",
   "metadata": {},
   "source": [
    "The bootstrap analysis tells us that there is a high probability that 1-day retention is better when the gate is at level 30. However, since players have only been playing the game for one day, it is likely that most players haven't reached level 30 yet. That is, many players won't have been affected by the gate, even if it's as early as level 30.\n",
    "\n",
    "But after having played for a week, more players should have reached level 40, and therefore it makes sense to also look at 7-day retention. That is: What percentage of the people that installed the game also showed up a week later to play the game again."
   ]
  },
  {
   "cell_type": "markdown",
   "id": "e69fa171",
   "metadata": {},
   "source": [
    "<a name=\"stage_4\"></a>\n",
    "## Should we be confident in the difference?\n",
    "[To the table of contents](#table_of_contents)\n",
    "<p>It appears that there was a slight decrease in 1-day retention when the gate was moved to level 40 (44.2%) compared to the control when it was at level 30 (44.8%). It's a small change, but even small changes in retention can have a large impact. But while we are certain of the difference in the data, how certain should we be that a gate at level 40 will be worse in the future?</p>\n",
    "<p>There are a couple of ways we can get at the certainty of these retention numbers. Here we will use bootstrapping: We will repeatedly re-sample our dataset (with replacement) and calculate 1-day retention for those samples. The variation in 1-day retention will give us an indication of how uncertain the retention numbers are.</p>"
   ]
  },
  {
   "cell_type": "markdown",
   "id": "01e7199a",
   "metadata": {},
   "source": [
    "Like with 1-day retention, we see that 7-day retention is slightly lower (18.2%) when the gate is at level 40 than when the gate is at level 30 (19.0%). This difference is also larger than for 1-day retention, presumably because more players have had time to hit the first gate. We also see that the overall 7-day retention is lower than the overall 1-day retention; fewer people play a game a week after installing than a day after installing.\n",
    "\n",
    "But as before, let's use bootstrap analysis to figure out how certain we should be of the difference between the AB-groups."
   ]
  },
  {
   "cell_type": "code",
   "execution_count": 22,
   "id": "d096617f",
   "metadata": {},
   "outputs": [
    {
     "data": {
      "image/png": "[encoded data removed]",
      "text/plain": [
       "<Figure size 1008x504 with 2 Axes>"
      ]
     },
     "metadata": {
      "needs_background": "light"
     },
     "output_type": "display_data"
    }
   ],
   "source": [
    "# Creating a list with bootstrapped means for each AB-group\n",
    "boot_1d = []\n",
    "boot_7d = []\n",
    "iterations=500\n",
    "for i in range(iterations):\n",
    "    boot_mean_1 = df.sample(frac=1, replace=True).groupby('version')['retention_1'].mean()\n",
    "    boot_mean_7 = df.sample(frac=1, replace=True).groupby('version')['retention_7'].mean()\n",
    "    boot_1d.append(boot_mean_1)\n",
    "    boot_7d.append(boot_mean_7)\n",
    "    \n",
    "# Transforming the list to a DataFrame\n",
    "boot_1d = pd.DataFrame(boot_1d)\n",
    "boot_7d = pd.DataFrame(boot_7d)\n",
    "    \n",
    "# A Kernel Density Estimate plot of the bootstrap distributions\n",
    "fig, (ax1,ax2) = plt.subplots(1, 2, sharey=True, figsize=(14,7))\n",
    "\n",
    "boot_1d.plot.kde(ax=ax1)\n",
    "ax1.set_title('Bootstrapped 1-Day Retention Means for each AB-group')\n",
    "ax1.set_xlabel('Mean 1-Day Retention',size=12)\n",
    "ax1.set_ylabel(\"number of sample\",size=12)\n",
    "\n",
    "boot_7d.plot.kde(ax=ax2)\n",
    "ax2.set_title('Bootstrapped 7-Day Retention Means for each AB-group')\n",
    "ax2.set_xlabel('Mean 7-Day Retention',size=12)\n",
    "\n",
    "             \n",
    "plt.show()"
   ]
  },
  {
   "cell_type": "markdown",
   "id": "c32e54e4",
   "metadata": {},
   "source": [
    "##### What happens if you increase the number of iterations to 1000?"
   ]
  },
  {
   "cell_type": "code",
   "execution_count": 23,
   "id": "95c6e1b8",
   "metadata": {},
   "outputs": [
    {
     "data": {
      "image/png": "[encoded data removed]",
      "text/plain": [
       "<Figure size 1008x504 with 2 Axes>"
      ]
     },
     "metadata": {
      "needs_background": "light"
     },
     "output_type": "display_data"
    }
   ],
   "source": [
    "# Creating a list with bootstrapped means for each AB-group\n",
    "boot_1d = []\n",
    "boot_7d = []\n",
    "iterations=1000\n",
    "for i in range(iterations):\n",
    "    boot_mean_1 = df.sample(frac=1, replace=True).groupby('version')['retention_1'].mean()\n",
    "    boot_mean_7 = df.sample(frac=1, replace=True).groupby('version')['retention_7'].mean()\n",
    "    boot_1d.append(boot_mean_1)\n",
    "    boot_7d.append(boot_mean_7)\n",
    "    \n",
    "# Transforming the list to a DataFrame\n",
    "boot_1d = pd.DataFrame(boot_1d)\n",
    "boot_7d = pd.DataFrame(boot_7d)\n",
    "    \n",
    "# A Kernel Density Estimate plot of the bootstrap distributions\n",
    "fig, (ax1,ax2) = plt.subplots(1, 2, sharey=True, figsize=(14,7))\n",
    "\n",
    "boot_1d.plot.kde(ax=ax1)\n",
    "ax1.set_title('Bootstrapped 1-Day Retention Means for each AB-group')\n",
    "ax1.set_xlabel('Mean 1-Day Retention',size=12)\n",
    "ax1.set_ylabel(\"number of sample\",size=12)\n",
    "\n",
    "boot_7d.plot.kde(ax=ax2)\n",
    "ax2.set_title('Bootstrapped 7-Day Retention Means for each AB-group')\n",
    "ax2.set_xlabel('Mean 7-Day Retention',size=12)\n",
    "\n",
    "plt.show()"
   ]
  },
  {
   "cell_type": "markdown",
   "id": "3b6a84b3",
   "metadata": {},
   "source": [
    "<a name=\"stage_5\"></a>\n",
    "## Zooming in on the difference\n",
    "[To the table of contents](#table_of_contents)\n",
    "<p>These two distributions above represent the bootstrap uncertainty over what the underlying 1-day retention could be for the two AB-groups. Just eyeballing this plot, we can see that there seems to be some evidence of a difference, albeit small. Let's zoom in on the difference in 1-day retention</p>\n",
    "<p>(<em>Note that in this notebook we have limited the number of bootstrap replication to 500 to keep the calculations quick. In \"production\" we would likely increase this to a much larger number, say, 10 000.</em>)</p>"
   ]
  },
  {
   "cell_type": "code",
   "execution_count": 24,
   "id": "23282e3a",
   "metadata": {},
   "outputs": [
    {
     "data": {
      "image/png": "[encoded data removed]",
      "text/plain": [
       "<Figure size 1008x504 with 2 Axes>"
      ]
     },
     "metadata": {
      "needs_background": "light"
     },
     "output_type": "display_data"
    }
   ],
   "source": [
    "# Adding a column with the % difference between the two AB-groups\n",
    "boot_1d['diff'] = (boot_1d['gate_30']-boot_1d['gate_40'])/boot_1d['gate_40'] * 100\n",
    "boot_7d['diff'] = (boot_7d['gate_30']-boot_7d['gate_40'])/boot_7d['gate_40'] * 100\n",
    "\n",
    "# Ploting the bootstrap % difference\n",
    "fig, (ax1,ax2) = plt.subplots(1, 2, sharey=True, figsize=(14,7))\n",
    "boot_1d['diff'].plot.kde(ax=ax1)\n",
    "ax1.set_title('Bootstrap % Difference in 1-Day Retention Means')\n",
    "ax1.set_xlabel(\"% difference in means\",size=12)\n",
    "ax1.set_ylabel(\"Density\",size=12)\n",
    "\n",
    "boot_7d['diff'].plot.kde(ax=ax2)\n",
    "ax2.set_title('Bootstrap % Difference in 7-Day Retention Means')\n",
    "ax2.set_xlabel(\"% difference in means\",size=12)\n",
    "\n",
    "plt.show()"
   ]
  },
  {
   "cell_type": "markdown",
   "id": "d6e1f376",
   "metadata": {},
   "source": [
    "##### Let's overlay two graphs on top of one for better perception."
   ]
  },
  {
   "cell_type": "code",
   "execution_count": 25,
   "id": "22ac9b95",
   "metadata": {},
   "outputs": [
    {
     "data": {
      "image/png": "[encoded data removed]",
      "text/plain": [
       "<Figure size 1008x504 with 1 Axes>"
      ]
     },
     "metadata": {
      "needs_background": "light"
     },
     "output_type": "display_data"
    }
   ],
   "source": [
    "fig, (ax1) = plt.subplots(1, 1,figsize=(14,7))\n",
    "boot_1d['diff'].plot.kde(ax=ax1, c=\"red\", label = \"1 day retention\")\n",
    "boot_7d['diff'].plot.kde(ax=ax1, c= \"blue\", label = \"7 days retention\")\n",
    "ax1.set_xlabel(\"% difference\",size=12)\n",
    "ax1.set_ylabel(\"% density\",size=12)\n",
    "ax1.set_title(\"Difference in retention \\n between the two A/B groups\", size=14)\n",
    "plt.legend()\n",
    "plt.show()"
   ]
  },
  {
   "cell_type": "markdown",
   "id": "a50248c1",
   "metadata": {},
   "source": [
    "<a name=\"stage_6\"></a>\n",
    "## The probability of a difference\n",
    "[To the table of contents](#table_of_contents)\n",
    "<p><img src=\"https://assets.datacamp.com/production/project_184/img/ziggy_smiling.png\" style=\"width:200px; float:left\"> </p>\n",
    "<p>From this chart, we can see that the most likely % difference is around 1% - 2%, and that most of the distribution is above 0%, in favor of a gate at level 30. But what is the <em>probability</em> that the difference is above 0%? Let's calculate that as well.</p>"
   ]
  },
  {
   "cell_type": "code",
   "execution_count": 26,
   "id": "b68d27b4",
   "metadata": {},
   "outputs": [
    {
     "name": "stdout",
     "output_type": "stream",
     "text": [
      "Calculating the probability that 1-day retention is greater when the gate is at level 30: 97.2%\n",
      "\n",
      "Calculating the probability that 7-day retention is greater when the gate is at level 30: 100.0%\n"
     ]
    }
   ],
   "source": [
    "prob_1 = (boot_1d['diff']>0).sum()/len(boot_1d['diff'])\n",
    "prob_7 = (boot_7d['diff']>0).sum()/len(boot_7d['diff'])\n",
    "\n",
    "print('Calculating the probability that 1-day retention is greater when the gate is at level 30: {0:.1%}'.format(prob_1))\n",
    "print('\\nCalculating the probability that 7-day retention is greater when the gate is at level 30: {0:.1%}'.format(prob_7))"
   ]
  },
  {
   "cell_type": "code",
   "execution_count": 27,
   "id": "e4401380",
   "metadata": {},
   "outputs": [
    {
     "name": "stdout",
     "output_type": "stream",
     "text": [
      "The desision of moving to level 40 is: False\n"
     ]
    }
   ],
   "source": [
    "move_to_level_40 = False\n",
    "print('The desision of moving to level 40 is:', move_to_level_40)"
   ]
  },
  {
   "cell_type": "markdown",
   "id": "cc2581c6",
   "metadata": {},
   "source": [
    "<a name=\"stage_7\"></a>\n",
    "## The conclusion\n",
    "[To the table of contents](#table_of_contents)\n",
    "<p>The bootstrap result tells us that there is strong evidence that 7-day retention is higher when the gate is at level 30 than when it is at level 40. The conclusion is: If we want to keep retention high — both 1-day and 7-day retention — we should <strong>not</strong> move the gate from level 30 to level 40. There are, of course, other metrics we could look at, like the number of game rounds played or how much in-game purchases are made by the two AB-groups. But retention <em>is</em> one of the most important metrics. If we don't retain our player base, it doesn't matter how much money they spend in-game.</p>\n",
    "<p><img src=\"https://assets.datacamp.com/production/project_184/img/mr_waffles_smiling.png\" style=\"width:200px; float:left\"> </p>\n",
    "<p>So, why is retention higher when the gate is positioned earlier? One could expect the opposite: The later the obstacle, the longer people are going to engage with the game. But this is not what the data tells us. The theory of <em>hedonic adaptation</em> can give one explanation for this. In short, hedonic adaptation is the tendency for people to get less and less enjoyment out of a fun activity over time if that activity is undertaken continuously. By forcing players to take a break when they reach a gate, their enjoyment of the game is prolonged. But when the gate is moved to level 40, fewer players make it far enough, and they are more likely to quit the game because they simply got bored of it. </p>"
   ]
  },
  {
   "cell_type": "code",
   "execution_count": null,
   "id": "17aef645",
   "metadata": {},
   "outputs": [],
   "source": []
  }
 ],
 "metadata": {
  "kernelspec": {
   "display_name": "Python 3",
   "language": "python",
   "name": "python3"
  },
  "language_info": {
   "codemirror_mode": {
    "name": "ipython",
    "version": 3
   },
   "file_extension": ".py",
   "mimetype": "text/x-python",
   "name": "python",
   "nbconvert_exporter": "python",
   "pygments_lexer": "ipython3",
   "version": "3.8.8"
  }
 },
 "nbformat": 4,
 "nbformat_minor": 5
}
