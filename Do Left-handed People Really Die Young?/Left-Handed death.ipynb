{
 "cells": [
  {
   "cell_type": "markdown",
   "id": "d3620936",
   "metadata": {},
   "source": [
    "## Introduction.\n",
    "Barack Obama is left-handed. So are Bill Gates and Oprah Winfrey; so were Babe Ruth and Marie Curie. A 1991 study reported that left-handed people die on average nine years earlier than right-handed people. Nine years! Could this really be true?\n",
    "\n",
    "In this notebook, we will explore this phenomenon using age distribution data to see if we can reproduce a difference in average age at death purely from the changing rates of left-handedness over time, refuting the claim of early death for left-handers. This notebook uses pandas and Bayesian statistics to analyze the probability of being a certain age at death given that you are reported as left-handed or right-handed.\n",
    "\n",
    "A National Geographic survey in 1986 resulted in over a million responses that included age, sex, and hand preference for throwing and writing. Researchers Avery Gilbert and Charles Wysocki analyzed this data and noticed that rates of left-handedness were around 13% for people younger than 40 but decreased with age to about 5% by the age of 80. They concluded based on analysis of a subgroup of people who throw left-handed but write right-handed that this age-dependence was primarily due to changing social acceptability of left-handedness. This means that the rates aren't a factor of age specifically but rather of the year you were born, and if the same study was done today, we should expect a shifted version of the same distribution as a function of age. Ultimately, we'll see what effect this changing rate has on the apparent mean age of death of left-handed people, but let's start by plotting the rates of left-handedness as a function of age."
   ]
  },
  {
   "cell_type": "markdown",
   "id": "6af8de19",
   "metadata": {},
   "source": [
    "<a name=\"table_of_contents\"></a>\n",
    "# Content: \n",
    "\n",
    "1) [The datasets and importing libraries](#stage_1)\n",
    "\n",
    "* [Dataset with life expectancy for lefties](#s_1)\n",
    "\n",
    "* [Dataset with life expectancy data for all people](#s_2)\n",
    "\n",
    "2) [Getting to the analysis](#stage_2)\n",
    "\n",
    "3) [Applicability of Bayes' Theorem in the context of the left handed early death hypothesis.](#stage_3)\n",
    "\n",
    "* [All together, testing the hypothesis through Bayes' theorem](#s_3)\n",
    "\n",
    "4) [Total probability of death for right-handers and left-handers](#stage_4)\n",
    "\n",
    "5) [Difference in life expectancy](#stage_5)\n",
    "\n",
    "6) [Final comments](#stage_6)"
   ]
  },
  {
   "cell_type": "markdown",
   "id": "9c1e9804",
   "metadata": {},
   "source": [
    "<a name=\"stage_1\"></a>\n",
    "## The datasets and importing libraries\n",
    "[To the table of contents](#table_of_contents)"
   ]
  },
  {
   "cell_type": "code",
   "execution_count": 1,
   "id": "b52812ba",
   "metadata": {},
   "outputs": [
    {
     "name": "stdout",
     "output_type": "stream",
     "text": [
      "Requirement already satisfied: missingno in d:\\ anaconda\\lib\\site-packages (0.5.1)\n",
      "Requirement already satisfied: seaborn in d:\\ anaconda\\lib\\site-packages (from missingno) (0.9.0)\n",
      "Requirement already satisfied: scipy in d:\\ anaconda\\lib\\site-packages (from missingno) (1.6.2)\n",
      "Requirement already satisfied: numpy in d:\\ anaconda\\lib\\site-packages (from missingno) (1.20.1)\n",
      "Requirement already satisfied: matplotlib in d:\\ anaconda\\lib\\site-packages (from missingno) (3.3.4)\n",
      "Requirement already satisfied: kiwisolver>=1.0.1 in d:\\ anaconda\\lib\\site-packages (from matplotlib->missingno) (1.3.1)\n",
      "Requirement already satisfied: cycler>=0.10 in d:\\ anaconda\\lib\\site-packages (from matplotlib->missingno) (0.10.0)\n",
      "Requirement already satisfied: python-dateutil>=2.1 in d:\\ anaconda\\lib\\site-packages (from matplotlib->missingno) (2.8.1)\n",
      "Requirement already satisfied: pillow>=6.2.0 in d:\\ anaconda\\lib\\site-packages (from matplotlib->missingno) (8.2.0)\n",
      "Requirement already satisfied: pyparsing!=2.0.4,!=2.1.2,!=2.1.6,>=2.0.3 in d:\\ anaconda\\lib\\site-packages (from matplotlib->missingno) (2.4.7)\n",
      "Requirement already satisfied: six in d:\\ anaconda\\lib\\site-packages (from cycler>=0.10->matplotlib->missingno) (1.15.0)\n",
      "Requirement already satisfied: pandas>=0.15.2 in d:\\ anaconda\\lib\\site-packages (from seaborn->missingno) (1.2.4)\n",
      "Requirement already satisfied: pytz>=2017.3 in d:\\ anaconda\\lib\\site-packages (from pandas>=0.15.2->seaborn->missingno) (2021.1)\n",
      "Requirement already satisfied: matplotlib in d:\\ anaconda\\lib\\site-packages (3.3.4)\n",
      "Requirement already satisfied: pyparsing!=2.0.4,!=2.1.2,!=2.1.6,>=2.0.3 in d:\\ anaconda\\lib\\site-packages (from matplotlib) (2.4.7)\n",
      "Requirement already satisfied: numpy>=1.15 in d:\\ anaconda\\lib\\site-packages (from matplotlib) (1.20.1)\n",
      "Requirement already satisfied: kiwisolver>=1.0.1 in d:\\ anaconda\\lib\\site-packages (from matplotlib) (1.3.1)\n",
      "Requirement already satisfied: pillow>=6.2.0 in d:\\ anaconda\\lib\\site-packages (from matplotlib) (8.2.0)\n",
      "Requirement already satisfied: cycler>=0.10 in d:\\ anaconda\\lib\\site-packages (from matplotlib) (0.10.0)\n",
      "Requirement already satisfied: python-dateutil>=2.1 in d:\\ anaconda\\lib\\site-packages (from matplotlib) (2.8.1)\n",
      "Requirement already satisfied: six in d:\\ anaconda\\lib\\site-packages (from cycler>=0.10->matplotlib) (1.15.0)\n"
     ]
    }
   ],
   "source": [
    "! pip install missingno\n",
    "! pip install matplotlib"
   ]
  },
  {
   "cell_type": "code",
   "execution_count": 2,
   "id": "6ea57124",
   "metadata": {},
   "outputs": [],
   "source": [
    "import pandas as pd\n",
    "import numpy as np\n",
    "from scipy import stats as st\n",
    "import math\n",
    "import seaborn as sns\n",
    "import matplotlib.pyplot as plt\n",
    "\n",
    "import missingno as msno"
   ]
  },
  {
   "cell_type": "markdown",
   "id": "4a6e742b",
   "metadata": {},
   "source": [
    "<a name=\"s_1\"></a>\n",
    "### Dataset with life expectancy for lefties\n",
    "[To the table of contents](#table_of_contents)"
   ]
  },
  {
   "cell_type": "markdown",
   "id": "35a81b74",
   "metadata": {},
   "source": [
    "<p>This notebook uses two datasets: <a href=\"https://www.cdc.gov/nchs/data/statab/vs00199_table310.pdf\">death distribution data</a> for the United States from the year 1999 (source website <a href=\"https://www.cdc.gov/nchs/nvss/mortality_tables.htm\">here</a>) and rates of left-handedness digitized from a figure in this <a href=\"https://www.ncbi.nlm.nih.gov/pubmed/1528408\">1992 paper by Gilbert and Wysocki</a>. </p>"
   ]
  },
  {
   "cell_type": "code",
   "execution_count": 3,
   "id": "b7c3d036",
   "metadata": {},
   "outputs": [
    {
     "data": {
      "text/html": [
       "<div>\n",
       "<style scoped>\n",
       "    .dataframe tbody tr th:only-of-type {\n",
       "        vertical-align: middle;\n",
       "    }\n",
       "\n",
       "    .dataframe tbody tr th {\n",
       "        vertical-align: top;\n",
       "    }\n",
       "\n",
       "    .dataframe thead th {\n",
       "        text-align: right;\n",
       "    }\n",
       "</style>\n",
       "<table border=\"1\" class=\"dataframe\">\n",
       "  <thead>\n",
       "    <tr style=\"text-align: right;\">\n",
       "      <th></th>\n",
       "      <th>Age</th>\n",
       "      <th>Male</th>\n",
       "      <th>Female</th>\n",
       "    </tr>\n",
       "  </thead>\n",
       "  <tbody>\n",
       "    <tr>\n",
       "      <th>0</th>\n",
       "      <td>10</td>\n",
       "      <td>12.717558</td>\n",
       "      <td>12.198041</td>\n",
       "    </tr>\n",
       "    <tr>\n",
       "      <th>1</th>\n",
       "      <td>11</td>\n",
       "      <td>15.318830</td>\n",
       "      <td>11.144804</td>\n",
       "    </tr>\n",
       "    <tr>\n",
       "      <th>2</th>\n",
       "      <td>12</td>\n",
       "      <td>14.808281</td>\n",
       "      <td>11.549240</td>\n",
       "    </tr>\n",
       "    <tr>\n",
       "      <th>3</th>\n",
       "      <td>13</td>\n",
       "      <td>13.793744</td>\n",
       "      <td>11.276442</td>\n",
       "    </tr>\n",
       "    <tr>\n",
       "      <th>4</th>\n",
       "      <td>14</td>\n",
       "      <td>15.156304</td>\n",
       "      <td>11.572906</td>\n",
       "    </tr>\n",
       "    <tr>\n",
       "      <th>5</th>\n",
       "      <td>15</td>\n",
       "      <td>14.086186</td>\n",
       "      <td>12.077731</td>\n",
       "    </tr>\n",
       "    <tr>\n",
       "      <th>6</th>\n",
       "      <td>16</td>\n",
       "      <td>14.148993</td>\n",
       "      <td>12.057432</td>\n",
       "    </tr>\n",
       "    <tr>\n",
       "      <th>7</th>\n",
       "      <td>17</td>\n",
       "      <td>14.522524</td>\n",
       "      <td>11.524442</td>\n",
       "    </tr>\n",
       "    <tr>\n",
       "      <th>8</th>\n",
       "      <td>18</td>\n",
       "      <td>14.727009</td>\n",
       "      <td>12.179550</td>\n",
       "    </tr>\n",
       "    <tr>\n",
       "      <th>9</th>\n",
       "      <td>19</td>\n",
       "      <td>15.069371</td>\n",
       "      <td>11.882904</td>\n",
       "    </tr>\n",
       "  </tbody>\n",
       "</table>\n",
       "</div>"
      ],
      "text/plain": [
       "   Age       Male     Female\n",
       "0   10  12.717558  12.198041\n",
       "1   11  15.318830  11.144804\n",
       "2   12  14.808281  11.549240\n",
       "3   13  13.793744  11.276442\n",
       "4   14  15.156304  11.572906\n",
       "5   15  14.086186  12.077731\n",
       "6   16  14.148993  12.057432\n",
       "7   17  14.522524  11.524442\n",
       "8   18  14.727009  12.179550\n",
       "9   19  15.069371  11.882904"
      ]
     },
     "execution_count": 3,
     "metadata": {},
     "output_type": "execute_result"
    }
   ],
   "source": [
    "data_url_1 = \"https://gist.githubusercontent.com/mbonsma/8da0990b71ba9a09f7de395574e54df1/raw/aec88b30af87fad8d45da7e774223f91dad09e88/lh_data.csv\"\n",
    "data1 = pd.read_csv(data_url_1)\n",
    "data1.head(10)"
   ]
  },
  {
   "cell_type": "code",
   "execution_count": 4,
   "id": "92b8b053",
   "metadata": {},
   "outputs": [
    {
     "name": "stdout",
     "output_type": "stream",
     "text": [
      "<class 'pandas.core.frame.DataFrame'>\n",
      "RangeIndex: 77 entries, 0 to 76\n",
      "Data columns (total 3 columns):\n",
      " #   Column  Non-Null Count  Dtype  \n",
      "---  ------  --------------  -----  \n",
      " 0   Age     77 non-null     int64  \n",
      " 1   Male    77 non-null     float64\n",
      " 2   Female  77 non-null     float64\n",
      "dtypes: float64(2), int64(1)\n",
      "memory usage: 1.9 KB\n"
     ]
    }
   ],
   "source": [
    "data1.info()"
   ]
  },
  {
   "cell_type": "code",
   "execution_count": 5,
   "id": "8b7e2cd4",
   "metadata": {},
   "outputs": [
    {
     "data": {
      "text/html": [
       "<div>\n",
       "<style scoped>\n",
       "    .dataframe tbody tr th:only-of-type {\n",
       "        vertical-align: middle;\n",
       "    }\n",
       "\n",
       "    .dataframe tbody tr th {\n",
       "        vertical-align: top;\n",
       "    }\n",
       "\n",
       "    .dataframe thead th {\n",
       "        text-align: right;\n",
       "    }\n",
       "</style>\n",
       "<table border=\"1\" class=\"dataframe\">\n",
       "  <thead>\n",
       "    <tr style=\"text-align: right;\">\n",
       "      <th></th>\n",
       "      <th>age</th>\n",
       "      <th>male</th>\n",
       "      <th>female</th>\n",
       "    </tr>\n",
       "  </thead>\n",
       "  <tbody>\n",
       "    <tr>\n",
       "      <th>0</th>\n",
       "      <td>10</td>\n",
       "      <td>12.717558</td>\n",
       "      <td>12.198041</td>\n",
       "    </tr>\n",
       "    <tr>\n",
       "      <th>1</th>\n",
       "      <td>11</td>\n",
       "      <td>15.318830</td>\n",
       "      <td>11.144804</td>\n",
       "    </tr>\n",
       "    <tr>\n",
       "      <th>2</th>\n",
       "      <td>12</td>\n",
       "      <td>14.808281</td>\n",
       "      <td>11.549240</td>\n",
       "    </tr>\n",
       "    <tr>\n",
       "      <th>3</th>\n",
       "      <td>13</td>\n",
       "      <td>13.793744</td>\n",
       "      <td>11.276442</td>\n",
       "    </tr>\n",
       "    <tr>\n",
       "      <th>4</th>\n",
       "      <td>14</td>\n",
       "      <td>15.156304</td>\n",
       "      <td>11.572906</td>\n",
       "    </tr>\n",
       "    <tr>\n",
       "      <th>...</th>\n",
       "      <td>...</td>\n",
       "      <td>...</td>\n",
       "      <td>...</td>\n",
       "    </tr>\n",
       "    <tr>\n",
       "      <th>72</th>\n",
       "      <td>82</td>\n",
       "      <td>7.350204</td>\n",
       "      <td>4.874899</td>\n",
       "    </tr>\n",
       "    <tr>\n",
       "      <th>73</th>\n",
       "      <td>83</td>\n",
       "      <td>6.471204</td>\n",
       "      <td>5.672536</td>\n",
       "    </tr>\n",
       "    <tr>\n",
       "      <th>74</th>\n",
       "      <td>84</td>\n",
       "      <td>6.510858</td>\n",
       "      <td>5.774881</td>\n",
       "    </tr>\n",
       "    <tr>\n",
       "      <th>75</th>\n",
       "      <td>85</td>\n",
       "      <td>7.337968</td>\n",
       "      <td>7.051459</td>\n",
       "    </tr>\n",
       "    <tr>\n",
       "      <th>76</th>\n",
       "      <td>86</td>\n",
       "      <td>5.059387</td>\n",
       "      <td>4.680948</td>\n",
       "    </tr>\n",
       "  </tbody>\n",
       "</table>\n",
       "<p>77 rows × 3 columns</p>\n",
       "</div>"
      ],
      "text/plain": [
       "    age       male     female\n",
       "0    10  12.717558  12.198041\n",
       "1    11  15.318830  11.144804\n",
       "2    12  14.808281  11.549240\n",
       "3    13  13.793744  11.276442\n",
       "4    14  15.156304  11.572906\n",
       "..  ...        ...        ...\n",
       "72   82   7.350204   4.874899\n",
       "73   83   6.471204   5.672536\n",
       "74   84   6.510858   5.774881\n",
       "75   85   7.337968   7.051459\n",
       "76   86   5.059387   4.680948\n",
       "\n",
       "[77 rows x 3 columns]"
      ]
     },
     "execution_count": 5,
     "metadata": {},
     "output_type": "execute_result"
    }
   ],
   "source": [
    "data1.columns=data1.columns.str.lower()\n",
    "data1"
   ]
  },
  {
   "cell_type": "code",
   "execution_count": 6,
   "id": "541b16ba",
   "metadata": {},
   "outputs": [
    {
     "data": {
      "text/html": [
       "<div>\n",
       "<style scoped>\n",
       "    .dataframe tbody tr th:only-of-type {\n",
       "        vertical-align: middle;\n",
       "    }\n",
       "\n",
       "    .dataframe tbody tr th {\n",
       "        vertical-align: top;\n",
       "    }\n",
       "\n",
       "    .dataframe thead th {\n",
       "        text-align: right;\n",
       "    }\n",
       "</style>\n",
       "<table border=\"1\" class=\"dataframe\">\n",
       "  <thead>\n",
       "    <tr style=\"text-align: right;\">\n",
       "      <th></th>\n",
       "      <th>age</th>\n",
       "      <th>male</th>\n",
       "      <th>female</th>\n",
       "    </tr>\n",
       "  </thead>\n",
       "  <tbody>\n",
       "    <tr>\n",
       "      <th>72</th>\n",
       "      <td>82</td>\n",
       "      <td>7.350204</td>\n",
       "      <td>4.874899</td>\n",
       "    </tr>\n",
       "    <tr>\n",
       "      <th>73</th>\n",
       "      <td>83</td>\n",
       "      <td>6.471204</td>\n",
       "      <td>5.672536</td>\n",
       "    </tr>\n",
       "    <tr>\n",
       "      <th>74</th>\n",
       "      <td>84</td>\n",
       "      <td>6.510858</td>\n",
       "      <td>5.774881</td>\n",
       "    </tr>\n",
       "    <tr>\n",
       "      <th>75</th>\n",
       "      <td>85</td>\n",
       "      <td>7.337968</td>\n",
       "      <td>7.051459</td>\n",
       "    </tr>\n",
       "    <tr>\n",
       "      <th>76</th>\n",
       "      <td>86</td>\n",
       "      <td>5.059387</td>\n",
       "      <td>4.680948</td>\n",
       "    </tr>\n",
       "  </tbody>\n",
       "</table>\n",
       "</div>"
      ],
      "text/plain": [
       "    age      male    female\n",
       "72   82  7.350204  4.874899\n",
       "73   83  6.471204  5.672536\n",
       "74   84  6.510858  5.774881\n",
       "75   85  7.337968  7.051459\n",
       "76   86  5.059387  4.680948"
      ]
     },
     "execution_count": 6,
     "metadata": {},
     "output_type": "execute_result"
    }
   ],
   "source": [
    "data1.tail(5)"
   ]
  },
  {
   "cell_type": "code",
   "execution_count": 7,
   "id": "f0349dea",
   "metadata": {},
   "outputs": [
    {
     "name": "stdout",
     "output_type": "stream",
     "text": [
      "Duplicates in dataset: 0\n",
      "\n",
      "Missing values in Dataset: age       0\n",
      "male      0\n",
      "female    0\n",
      "dtype: int64\n"
     ]
    }
   ],
   "source": [
    "print('Duplicates in dataset:', data1.duplicated().sum())\n",
    "print('\\nMissing values in Dataset:', data1.isna().sum())"
   ]
  },
  {
   "cell_type": "markdown",
   "id": "9b2eab43",
   "metadata": {},
   "source": [
    "<a name=\"s_2\"></a>\n",
    "### Dataset with life expectancy data for ***all*** people\n",
    "[To the table of contents](#table_of_contents)"
   ]
  },
  {
   "cell_type": "code",
   "execution_count": 8,
   "id": "005ef5f1",
   "metadata": {},
   "outputs": [
    {
     "data": {
      "text/html": [
       "<div>\n",
       "<style scoped>\n",
       "    .dataframe tbody tr th:only-of-type {\n",
       "        vertical-align: middle;\n",
       "    }\n",
       "\n",
       "    .dataframe tbody tr th {\n",
       "        vertical-align: top;\n",
       "    }\n",
       "\n",
       "    .dataframe thead th {\n",
       "        text-align: right;\n",
       "    }\n",
       "</style>\n",
       "<table border=\"1\" class=\"dataframe\">\n",
       "  <thead>\n",
       "    <tr style=\"text-align: right;\">\n",
       "      <th></th>\n",
       "      <th>Age</th>\n",
       "      <th>Both Sexes</th>\n",
       "      <th>Male</th>\n",
       "      <th>Female</th>\n",
       "    </tr>\n",
       "  </thead>\n",
       "  <tbody>\n",
       "    <tr>\n",
       "      <th>0</th>\n",
       "      <td>0</td>\n",
       "      <td>27937.0</td>\n",
       "      <td>15646.0</td>\n",
       "      <td>12291.0</td>\n",
       "    </tr>\n",
       "    <tr>\n",
       "      <th>1</th>\n",
       "      <td>1</td>\n",
       "      <td>1989.0</td>\n",
       "      <td>1103.0</td>\n",
       "      <td>886.0</td>\n",
       "    </tr>\n",
       "    <tr>\n",
       "      <th>2</th>\n",
       "      <td>2</td>\n",
       "      <td>1376.0</td>\n",
       "      <td>797.0</td>\n",
       "      <td>579.0</td>\n",
       "    </tr>\n",
       "    <tr>\n",
       "      <th>3</th>\n",
       "      <td>3</td>\n",
       "      <td>1046.0</td>\n",
       "      <td>601.0</td>\n",
       "      <td>445.0</td>\n",
       "    </tr>\n",
       "    <tr>\n",
       "      <th>4</th>\n",
       "      <td>4</td>\n",
       "      <td>838.0</td>\n",
       "      <td>474.0</td>\n",
       "      <td>364.0</td>\n",
       "    </tr>\n",
       "    <tr>\n",
       "      <th>5</th>\n",
       "      <td>5</td>\n",
       "      <td>763.0</td>\n",
       "      <td>446.0</td>\n",
       "      <td>317.0</td>\n",
       "    </tr>\n",
       "    <tr>\n",
       "      <th>6</th>\n",
       "      <td>6</td>\n",
       "      <td>696.0</td>\n",
       "      <td>384.0</td>\n",
       "      <td>312.0</td>\n",
       "    </tr>\n",
       "    <tr>\n",
       "      <th>7</th>\n",
       "      <td>7</td>\n",
       "      <td>683.0</td>\n",
       "      <td>386.0</td>\n",
       "      <td>297.0</td>\n",
       "    </tr>\n",
       "    <tr>\n",
       "      <th>8</th>\n",
       "      <td>8</td>\n",
       "      <td>692.0</td>\n",
       "      <td>389.0</td>\n",
       "      <td>303.0</td>\n",
       "    </tr>\n",
       "    <tr>\n",
       "      <th>9</th>\n",
       "      <td>9</td>\n",
       "      <td>640.0</td>\n",
       "      <td>359.0</td>\n",
       "      <td>281.0</td>\n",
       "    </tr>\n",
       "  </tbody>\n",
       "</table>\n",
       "</div>"
      ],
      "text/plain": [
       "   Age  Both Sexes     Male   Female\n",
       "0    0     27937.0  15646.0  12291.0\n",
       "1    1      1989.0   1103.0    886.0\n",
       "2    2      1376.0    797.0    579.0\n",
       "3    3      1046.0    601.0    445.0\n",
       "4    4       838.0    474.0    364.0\n",
       "5    5       763.0    446.0    317.0\n",
       "6    6       696.0    384.0    312.0\n",
       "7    7       683.0    386.0    297.0\n",
       "8    8       692.0    389.0    303.0\n",
       "9    9       640.0    359.0    281.0"
      ]
     },
     "execution_count": 8,
     "metadata": {},
     "output_type": "execute_result"
    }
   ],
   "source": [
    "data_url_2 = \"https://gist.githubusercontent.com/mbonsma/2f4076aab6820ca1807f4e29f75f18ec/raw/62f3ec07514c7e31f5979beeca86f19991540796/cdc_vs00199_table310.tsv\"\n",
    "data2 = pd.read_csv(data_url_2, sep='\\t', skiprows=[1])\n",
    "data2.head(10)\n"
   ]
  },
  {
   "cell_type": "code",
   "execution_count": 9,
   "id": "7d91d8e5",
   "metadata": {},
   "outputs": [
    {
     "name": "stdout",
     "output_type": "stream",
     "text": [
      "<class 'pandas.core.frame.DataFrame'>\n",
      "RangeIndex: 125 entries, 0 to 124\n",
      "Data columns (total 4 columns):\n",
      " #   Column      Non-Null Count  Dtype  \n",
      "---  ------      --------------  -----  \n",
      " 0   Age         125 non-null    int64  \n",
      " 1   Both Sexes  120 non-null    float64\n",
      " 2   Male        115 non-null    float64\n",
      " 3   Female      120 non-null    float64\n",
      "dtypes: float64(3), int64(1)\n",
      "memory usage: 4.0 KB\n"
     ]
    }
   ],
   "source": [
    "data2.info()"
   ]
  },
  {
   "cell_type": "code",
   "execution_count": 10,
   "id": "3f4c7adf",
   "metadata": {},
   "outputs": [
    {
     "name": "stdout",
     "output_type": "stream",
     "text": [
      "Duplicates in dataset: 0\n",
      "\n",
      "Missing values in Dataset: Age            0\n",
      "Both Sexes     5\n",
      "Male          10\n",
      "Female         5\n",
      "dtype: int64\n"
     ]
    }
   ],
   "source": [
    "print('Duplicates in dataset:', data2.duplicated().sum())\n",
    "print('\\nMissing values in Dataset:', data2.isna().sum())"
   ]
  },
  {
   "cell_type": "code",
   "execution_count": 11,
   "id": "a207e03c",
   "metadata": {},
   "outputs": [
    {
     "data": {
      "text/plain": [
       "<AxesSubplot:>"
      ]
     },
     "execution_count": 11,
     "metadata": {},
     "output_type": "execute_result"
    },
    {
     "data": {
      "image/png": "[encoded data removed]",
      "text/plain": [
       "<Figure size 1800x720 with 3 Axes>"
      ]
     },
     "metadata": {
      "needs_background": "light"
     },
     "output_type": "display_data"
    }
   ],
   "source": [
    "msno.bar(data2)"
   ]
  },
  {
   "cell_type": "code",
   "execution_count": 12,
   "id": "39cd28ae",
   "metadata": {},
   "outputs": [
    {
     "name": "stdout",
     "output_type": "stream",
     "text": [
      "Age\n",
      "False    125\n",
      "Name: Age, dtype: int64\n",
      " \n",
      "Both Sexes\n",
      "False    120\n",
      "True       5\n",
      "Name: Both Sexes, dtype: int64\n",
      " \n",
      "Male\n",
      "False    115\n",
      "True      10\n",
      "Name: Male, dtype: int64\n",
      " \n",
      "Female\n",
      "False    120\n",
      "True       5\n",
      "Name: Female, dtype: int64\n",
      " \n"
     ]
    }
   ],
   "source": [
    "missing_data = data2.isnull()\n",
    "for column in missing_data.columns.values.tolist():\n",
    "    print(column)\n",
    "    print(missing_data[column].value_counts())\n",
    "    print(\" \")"
   ]
  },
  {
   "cell_type": "code",
   "execution_count": 13,
   "id": "0e4634a3",
   "metadata": {},
   "outputs": [
    {
     "name": "stdout",
     "output_type": "stream",
     "text": [
      "Missing values in dataset: Age           0\n",
      "Both Sexes    0\n",
      "Male          0\n",
      "Female        0\n",
      "dtype: int64\n"
     ]
    }
   ],
   "source": [
    "data2 = data2.dropna(subset = ['Both Sexes'])\n",
    "data2 = data2.dropna(subset = ['Male'])\n",
    "print('Missing values in dataset:', data2.isna().sum())"
   ]
  },
  {
   "cell_type": "markdown",
   "id": "f7ef8b59",
   "metadata": {},
   "source": [
    "I'll lower the case for ease of interaction, and then replace the name \"both sexes\" with \"death\", because more suitable in meaning and convenient to refer to the column"
   ]
  },
  {
   "cell_type": "code",
   "execution_count": 14,
   "id": "1dbd9d9f",
   "metadata": {},
   "outputs": [
    {
     "data": {
      "text/html": [
       "<div>\n",
       "<style scoped>\n",
       "    .dataframe tbody tr th:only-of-type {\n",
       "        vertical-align: middle;\n",
       "    }\n",
       "\n",
       "    .dataframe tbody tr th {\n",
       "        vertical-align: top;\n",
       "    }\n",
       "\n",
       "    .dataframe thead th {\n",
       "        text-align: right;\n",
       "    }\n",
       "</style>\n",
       "<table border=\"1\" class=\"dataframe\">\n",
       "  <thead>\n",
       "    <tr style=\"text-align: right;\">\n",
       "      <th></th>\n",
       "      <th>age</th>\n",
       "      <th>deaths</th>\n",
       "      <th>male</th>\n",
       "      <th>female</th>\n",
       "    </tr>\n",
       "  </thead>\n",
       "  <tbody>\n",
       "    <tr>\n",
       "      <th>0</th>\n",
       "      <td>0</td>\n",
       "      <td>27937.0</td>\n",
       "      <td>15646.0</td>\n",
       "      <td>12291.0</td>\n",
       "    </tr>\n",
       "    <tr>\n",
       "      <th>1</th>\n",
       "      <td>1</td>\n",
       "      <td>1989.0</td>\n",
       "      <td>1103.0</td>\n",
       "      <td>886.0</td>\n",
       "    </tr>\n",
       "    <tr>\n",
       "      <th>2</th>\n",
       "      <td>2</td>\n",
       "      <td>1376.0</td>\n",
       "      <td>797.0</td>\n",
       "      <td>579.0</td>\n",
       "    </tr>\n",
       "    <tr>\n",
       "      <th>3</th>\n",
       "      <td>3</td>\n",
       "      <td>1046.0</td>\n",
       "      <td>601.0</td>\n",
       "      <td>445.0</td>\n",
       "    </tr>\n",
       "    <tr>\n",
       "      <th>4</th>\n",
       "      <td>4</td>\n",
       "      <td>838.0</td>\n",
       "      <td>474.0</td>\n",
       "      <td>364.0</td>\n",
       "    </tr>\n",
       "    <tr>\n",
       "      <th>...</th>\n",
       "      <td>...</td>\n",
       "      <td>...</td>\n",
       "      <td>...</td>\n",
       "      <td>...</td>\n",
       "    </tr>\n",
       "    <tr>\n",
       "      <th>110</th>\n",
       "      <td>110</td>\n",
       "      <td>40.0</td>\n",
       "      <td>9.0</td>\n",
       "      <td>31.0</td>\n",
       "    </tr>\n",
       "    <tr>\n",
       "      <th>111</th>\n",
       "      <td>111</td>\n",
       "      <td>21.0</td>\n",
       "      <td>1.0</td>\n",
       "      <td>20.0</td>\n",
       "    </tr>\n",
       "    <tr>\n",
       "      <th>112</th>\n",
       "      <td>112</td>\n",
       "      <td>12.0</td>\n",
       "      <td>2.0</td>\n",
       "      <td>10.0</td>\n",
       "    </tr>\n",
       "    <tr>\n",
       "      <th>113</th>\n",
       "      <td>113</td>\n",
       "      <td>9.0</td>\n",
       "      <td>2.0</td>\n",
       "      <td>7.0</td>\n",
       "    </tr>\n",
       "    <tr>\n",
       "      <th>117</th>\n",
       "      <td>117</td>\n",
       "      <td>3.0</td>\n",
       "      <td>2.0</td>\n",
       "      <td>1.0</td>\n",
       "    </tr>\n",
       "  </tbody>\n",
       "</table>\n",
       "<p>115 rows × 4 columns</p>\n",
       "</div>"
      ],
      "text/plain": [
       "     age   deaths     male   female\n",
       "0      0  27937.0  15646.0  12291.0\n",
       "1      1   1989.0   1103.0    886.0\n",
       "2      2   1376.0    797.0    579.0\n",
       "3      3   1046.0    601.0    445.0\n",
       "4      4    838.0    474.0    364.0\n",
       "..   ...      ...      ...      ...\n",
       "110  110     40.0      9.0     31.0\n",
       "111  111     21.0      1.0     20.0\n",
       "112  112     12.0      2.0     10.0\n",
       "113  113      9.0      2.0      7.0\n",
       "117  117      3.0      2.0      1.0\n",
       "\n",
       "[115 rows x 4 columns]"
      ]
     },
     "execution_count": 14,
     "metadata": {},
     "output_type": "execute_result"
    }
   ],
   "source": [
    "data2.columns=data2.columns.str.lower()\n",
    "data2.rename(columns={'both sexes':'deaths'}, inplace=True)\n",
    "data2"
   ]
  },
  {
   "cell_type": "markdown",
   "id": "cdf36e9b",
   "metadata": {},
   "source": [
    "<a name=\"stage_2\"></a>\n",
    "## Getting to the analysis\n",
    "[To the table of contents](#table_of_contents)"
   ]
  },
  {
   "cell_type": "code",
   "execution_count": 15,
   "id": "9565e997",
   "metadata": {},
   "outputs": [
    {
     "data": {
      "image/png": "[encoded data removed]",
      "text/plain": [
       "<Figure size 1008x504 with 1 Axes>"
      ]
     },
     "metadata": {
      "needs_background": "light"
     },
     "output_type": "display_data"
    }
   ],
   "source": [
    "plt.figure(figsize=(14, 7))\n",
    "plt.plot(data1['age'], data1['male'], label='Male')\n",
    "plt.plot(data1['age'], data1['female'], label='Female')\n",
    "plt.title('Graph of the share of left-handers by age group')\n",
    "plt.ylabel('part')\n",
    "plt.xlabel('age')\n",
    "plt.xticks(rotation=45)\n",
    "plt.legend()\n",
    "plt.show()    "
   ]
  },
  {
   "cell_type": "code",
   "execution_count": 16,
   "id": "a51cb92e",
   "metadata": {},
   "outputs": [
    {
     "name": "stderr",
     "output_type": "stream",
     "text": [
      "No handles with labels found to put in legend.\n"
     ]
    },
    {
     "data": {
      "image/png": "[encoded data removed]",
      "text/plain": [
       "<Figure size 1008x504 with 1 Axes>"
      ]
     },
     "metadata": {
      "needs_background": "light"
     },
     "output_type": "display_data"
    }
   ],
   "source": [
    "#the experiment was conducted in 1986, so we calculate the age of the subjects at the time of the experiment\n",
    "data1['birth_date'] = 1986 - data1['age'] \n",
    "data1['mean_lh'] = data1[['female', 'male']].mean(axis=1)\n",
    "\n",
    "plt.figure(figsize=(14, 7))\n",
    "plt.plot(data1['birth_date'], data1['mean_lh'])\n",
    "plt.title('Chart of birth years for left-handed people by the end of the experiment in 1986')\n",
    "plt.ylabel('share of left-handers among all subjects')\n",
    "plt.xlabel('year of birth')\n",
    "plt.xticks(rotation=45)\n",
    "plt.legend()\n",
    "plt.show()  "
   ]
  },
  {
   "cell_type": "code",
   "execution_count": 17,
   "id": "3f1604cc",
   "metadata": {},
   "outputs": [
    {
     "data": {
      "image/png": "[encoded data removed]",
      "text/plain": [
       "<Figure size 1008x504 with 1 Axes>"
      ]
     },
     "metadata": {
      "needs_background": "light"
     },
     "output_type": "display_data"
    }
   ],
   "source": [
    "plt.figure(figsize=(14, 7))\n",
    "plt.plot(data2['age'], data2['male'], label='Male')\n",
    "plt.plot(data2['age'], data2['female'], label='Female')\n",
    "plt.title('Life expectancy chart for ALL people')\n",
    "plt.ylabel('count')\n",
    "plt.xlabel('age')\n",
    "plt.xticks(rotation=45)\n",
    "plt.legend()\n",
    "plt.show()    "
   ]
  },
  {
   "cell_type": "markdown",
   "id": "87ec67b4",
   "metadata": {},
   "source": [
    "<a name=\"stage_3\"></a>\n",
    "## Applicability of Bayes' Theorem in the context of the left handed early death hypothesis.\n",
    "[To the table of contents](#table_of_contents)"
   ]
  },
  {
   "cell_type": "markdown",
   "id": "058db18e",
   "metadata": {},
   "source": [
    "Bayes' theorem allows you to determine the probability of an event, provided that another event that is statistically interdependent with it has occurred. By itself, the probability of dying at a certain age, given that you are left-handed, is not the same as the probability of being left-handed, provided that you die at a certain age. That is, in the condition of Bayes' theorem, Being left-handed is a condition of observations, ie P(E). Death is the overall probability of dying at age H, i.e. P(H).\n",
    "\n",
    "\n",
    "Bayes' theorem in such a context will help to renew beliefs upon seeing evidence.\n",
    "\n",
    "You need to calculate the probability of dying at age H, given the observable condition that you are left-handed - E. The formula will look like this:\n",
    "\n",
    "<p>$$P(H | E) = \\frac{P(E|H) P(H)}{P(EH)}$$</p>\n",
    "\n",
    "Where the terms P(E|H) is the probability that you are left-handed, given that you died at age H."
   ]
  },
  {
   "cell_type": "markdown",
   "id": "c142362f",
   "metadata": {},
   "source": [
    "#### Write a function to calculate the condition P(E|H)\n",
    "There are certain conditions here in the two datasets: Left-handed age data range from 10 to 86 years. Age at death data range from 1 to 120 years. Therefore, it is necessary to find the left-handed age values for the missing ages, i.e. 1 to 9 and 87 to 120 age groups as the average of the last 5 and first 5 age records in the data1 dataset.\n",
    "\n",
    "For ages 10 to 86, this score would be the same as the left-handed age dataset.\n",
    "\n",
    "Then the desired probability will be equal to the corresponding indicator for age, divided by 100 (since the indicator is indicated in%).\n",
    "\n",
    "###### Note:\n",
    "Since to calculate this condition, you need to extrapolate data to earlier and later years, based on the data1 dataset, the dates of the beginning and end of the 1900s. will be taken from the calculation of average values, because at the starting and ending points of the 1900s. the data is aligned and looks homogeneous, so 5 adjacent averages to them will be taken (from the logic of strictness to significance)."
   ]
  },
  {
   "cell_type": "code",
   "execution_count": 18,
   "id": "58240220",
   "metadata": {},
   "outputs": [],
   "source": [
    "#the variable study_year denotes the year of the experiment, before 1990 was already indicated as the date of the search for the age of the subjects\n",
    "def P_E_H (death_age, study_year = 1990):\n",
    "    rate_start = data1['mean_lh'][-5:].mean()\n",
    "    rate_end = data1['mean_lh'][:5].mean()\n",
    "    rate_mid = data1.loc[data1['age'].isin(death_age)]['mean_lh']\n",
    "    \n",
    "    #in the dataset data1, the youngest is 10 years old, the oldest is 86\n",
    "    youngest_value = study_year - 1986 + 10 \n",
    "    oldest_value = study_year - 1986 + 86 \n",
    "    \n",
    "    #empty array to store results\n",
    "    p_return = np.zeros(death_age.shape)\n",
    "    \n",
    "    #indicators of the number of lefties in the ages \"death_age\"\n",
    "    p_return[death_age>oldest_value]=rate_start/100\n",
    "    p_return[death_age<youngest_value]=rate_end/100\n",
    "    p_return[np.logical_and((death_age <= oldest_value), (death_age >= youngest_value))] = rate_mid / 100\n",
    "    \n",
    "    return p_return\n",
    "    \n",
    "    "
   ]
  },
  {
   "cell_type": "markdown",
   "id": "2aec899c",
   "metadata": {},
   "source": [
    "#### Total probability that a person who died at age H was left-handed - P(E)\n",
    "\n",
    "\n",
    "P(E) is the probability that a person who died in our particular study year is left-handed, assuming we don't know anything else about them.\n",
    "\n",
    "This is the average left-handedness in the death statistics, and can be calculated by summing all the left-handedness probabilities for each age, weighted by the number of people who died at each age, and then dividing by the total number of people who died to get the probability."
   ]
  },
  {
   "cell_type": "code",
   "execution_count": 19,
   "id": "8cdc1414",
   "metadata": {},
   "outputs": [
    {
     "name": "stdout",
     "output_type": "stream",
     "text": [
      "probability that a person who died at age H was left-handed: 0.07771931564770244\n"
     ]
    }
   ],
   "source": [
    "def P_LH(data2, study_year=1990): \n",
    "    \n",
    "    # summing all the lefts for each age:\n",
    "    \n",
    "    #1. The product of the number of deaths by the probability that you are left-handed, given that you died at age H.\n",
    "    p_list = data2['deaths'] * P_E_H(data2['age'])\n",
    "    \n",
    "    #2. Amount on the list\n",
    "    p = sum(p_list)\n",
    "    \n",
    "    #3.Order to the total number of people in the dataset\n",
    "    return p / np.sum(data2['deaths'])\n",
    "\n",
    "print('probability that a person who died at age H was left-handed:', P_LH(data2))"
   ]
  },
  {
   "cell_type": "markdown",
   "id": "20e5a174",
   "metadata": {},
   "source": [
    "<a name=\"s_3\"></a>\n",
    "### All together, testing the hypothesis through Bayes' theorem\n",
    "[To the table of contents](#table_of_contents)"
   ]
  },
  {
   "cell_type": "markdown",
   "id": "2d4b4e2d",
   "metadata": {},
   "source": [
    "Now there are all the necessary variables to test Bayes' theorem: P(H|E) = P(E|H)*P(E) // P(E).\n",
    "\n",
    "We combine variables to find P(H|E) - the probability of reaching age A at the time of death (in the studied period of time), given that you are left-handed. As a confirmation of the theory about the early death of left-handers, we will do the same for right-handers."
   ]
  },
  {
   "cell_type": "markdown",
   "id": "b75b7c2c",
   "metadata": {},
   "source": [
    "left-handers"
   ]
  },
  {
   "cell_type": "code",
   "execution_count": 20,
   "id": "cc9bf4c6",
   "metadata": {},
   "outputs": [],
   "source": [
    "def P_A_LH(death_age, data2, study_year=1990):\n",
    "    P_A = data2['deaths'][death_age] / np.sum(data2['deaths'])\n",
    "    P_left = P_LH(data2, study_year)\n",
    "    P_left_age = P_E_H(death_age, study_year)\n",
    "    \n",
    "    return P_left_age*P_A/P_left"
   ]
  },
  {
   "cell_type": "markdown",
   "id": "b1bd512e",
   "metadata": {},
   "source": [
    "right-handers"
   ]
  },
  {
   "cell_type": "code",
   "execution_count": 21,
   "id": "9a4b0111",
   "metadata": {},
   "outputs": [],
   "source": [
    "def P_A_RH(death_age, data2, study_year=1990):\n",
    "    P_A = data2['deaths'][death_age] / np.sum(data2['deaths'])\n",
    "    P_right = 1-P_LH(data2, study_year)\n",
    "    P_right_age = 1-P_E_H(death_age, study_year)\n",
    "    \n",
    "    return P_right_age*P_A/P_right"
   ]
  },
  {
   "cell_type": "markdown",
   "id": "2058a0f5",
   "metadata": {},
   "source": [
    "<a name=\"stage_4\"></a>\n",
    "## Total probability of death for right-handers and left-handers\n",
    "[To the table of contents](#table_of_contents)"
   ]
  },
  {
   "cell_type": "code",
   "execution_count": 22,
   "id": "75ac665f",
   "metadata": {},
   "outputs": [],
   "source": [
    "ages = data2.age\n",
    "left_handed_probability = P_A_LH(ages, data2)\n",
    "right_handed_probability = P_A_RH(ages, data2)"
   ]
  },
  {
   "cell_type": "code",
   "execution_count": 23,
   "id": "2ba441ad",
   "metadata": {},
   "outputs": [
    {
     "data": {
      "text/plain": [
       "Text(0, 0.5, 'Probability of being age A at death')"
      ]
     },
     "execution_count": 23,
     "metadata": {},
     "output_type": "execute_result"
    },
    {
     "data": {
      "image/png": "[encoded data removed]",
      "text/plain": [
       "<Figure size 432x288 with 1 Axes>"
      ]
     },
     "metadata": {
      "needs_background": "light"
     },
     "output_type": "display_data"
    }
   ],
   "source": [
    "fig, ax = plt.subplots() # create figure and axis objects\n",
    "ax.plot(ages, left_handed_probability, label = \"Left-handed\")\n",
    "ax.plot(ages, right_handed_probability, label = \"Right-handed\")\n",
    "ax.legend()\n",
    "ax.set_xlabel(\"Age at death\")\n",
    "ax.set_ylabel(\"Probability of being age A at death\")"
   ]
  },
  {
   "cell_type": "markdown",
   "id": "8207c164",
   "metadata": {},
   "source": [
    "<a name=\"stage_5\"></a>\n",
    "## Difference in life expectancy\n",
    "[To the table of contents](#table_of_contents)"
   ]
  },
  {
   "cell_type": "code",
   "execution_count": 24,
   "id": "052d5133",
   "metadata": {},
   "outputs": [
    {
     "name": "stdout",
     "output_type": "stream",
     "text": [
      "Average life expectancy for lefties: 67.30209241077102\n",
      "----------------------------------------------------- --------\n",
      "Average life expectancy for right-handed people: 72.79434330559559\n"
     ]
    }
   ],
   "source": [
    "average_lh_age =  np.nansum(ages*np.array(left_handed_probability))\n",
    "average_rh_age =  np.nansum(ages*np.array(right_handed_probability))\n",
    "\n",
    "print('Average life expectancy for lefties:', average_lh_age)\n",
    "print('----------------------------------------------------- --------')\n",
    "print('Average life expectancy for right-handed people:', average_rh_age)"
   ]
  },
  {
   "cell_type": "code",
   "execution_count": 25,
   "id": "1ce1668d",
   "metadata": {},
   "outputs": [
    {
     "name": "stdout",
     "output_type": "stream",
     "text": [
      "Difference in average ages 5.5 years.\n"
     ]
    }
   ],
   "source": [
    "print(\"Difference in average ages \" + str(round(average_rh_age - average_lh_age, 1)) + \" years.\")"
   ]
  },
  {
   "cell_type": "markdown",
   "id": "53be4e84",
   "metadata": {},
   "source": [
    "<a name=\"stage_6\"></a>\n",
    "## Final comments\n",
    "[To the table of contents](#table_of_contents)\n",
    "<p>We got a pretty big age gap between left-handed and right-handed people purely as a result of the changing rates of left-handedness in the population, which is good news for left-handers: you probably won't die young because of your sinisterness. The reported rates of left-handedness have increased from just 3% in the early 1900s to about 11% today, which means that older people are much more likely to be reported as right-handed than left-handed, and so looking at a sample of recently deceased people will have more old right-handers.</p>\n",
    "<p>Our number is still less than the 9-year gap measured in the study. It's possible that some of the approximations we made are the cause: </p>\n",
    "<ol>\n",
    "<li>We used death distribution data from almost ten years after the study (1999 instead of 1991), and we used death data from the entire United States instead of California alone (which was the original study). </li>\n",
    "<li>We extrapolated the left-handedness survey results to older and younger age groups, but it's possible our extrapolation wasn't close enough to the true rates for those ages. </li>\n",
    "</ol>\n",
    "<p>One thing we could do next is figure out how much variability we would expect to encounter in the age difference purely because of random sampling: if you take a smaller sample of recently deceased people and assign handedness with the probabilities of the survey, what does that distribution look like? How often would we encounter an age gap of nine years using the same data and assumptions? We won't do that here, but it's possible with this data and the tools of random sampling. </p>"
   ]
  },
  {
   "cell_type": "code",
   "execution_count": null,
   "id": "e77bb766",
   "metadata": {},
   "outputs": [],
   "source": []
  }
 ],
 "metadata": {
  "kernelspec": {
   "display_name": "Python 3",
   "language": "python",
   "name": "python3"
  },
  "language_info": {
   "codemirror_mode": {
    "name": "ipython",
    "version": 3
   },
   "file_extension": ".py",
   "mimetype": "text/x-python",
   "name": "python",
   "nbconvert_exporter": "python",
   "pygments_lexer": "ipython3",
   "version": "3.8.8"
  }
 },
 "nbformat": 4,
 "nbformat_minor": 5
}
